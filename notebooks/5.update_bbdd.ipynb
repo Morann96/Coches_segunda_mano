{
 "cells": [
  {
   "cell_type": "code",
   "execution_count": 1,
   "id": "9182d149-bec8-4fb0-9392-8b6329faf698",
   "metadata": {
    "tags": []
   },
   "outputs": [],
   "source": [
    "import numpy as np\n",
    "import pandas as pd\n",
    "import requests\n",
    "import tqdm\n",
    "import time\n",
    "import random\n",
    "import re\n",
    "import os\n",
    "import shutil\n",
    "import mysql.connector\n",
    "\n",
    "from bs4 import BeautifulSoup\n",
    "from selenium import webdriver\n",
    "from selenium.webdriver.chrome.service import Service\n",
    "from selenium.webdriver.common.by import By\n",
    "from selenium.webdriver.chrome.options import Options\n",
    "from selenium.webdriver.common.by import By\n",
    "\n",
    "from time import sleep\n",
    "from datetime import datetime"
   ]
  },
  {
   "cell_type": "code",
   "execution_count": 127,
   "id": "e3167701-d5f0-488c-a7a3-44741b012298",
   "metadata": {
    "tags": []
   },
   "outputs": [],
   "source": [
    "pd.set_option('display.max_columns', None)\n",
    "#pd.set_option('display.max_rows', None)\n",
    "pd.reset_option('display.max_rows')"
   ]
  },
  {
   "cell_type": "markdown",
   "id": "cc08de16-a00a-44c1-82ea-cee8ec89a9aa",
   "metadata": {
    "jp-MarkdownHeadingCollapsed": true,
    "tags": []
   },
   "source": [
    "## Encontrar links nuevos"
   ]
  },
  {
   "cell_type": "code",
   "execution_count": 4,
   "id": "1285792c-6853-4231-b0c6-d620f17075c2",
   "metadata": {
    "tags": []
   },
   "outputs": [],
   "source": [
    "contraseña_miguel = \"password\"\n",
    "contraseña_moran = 'Deportivo96'\n",
    "contraseña_carlos = \"Whereisbotus1996\""
   ]
  },
  {
   "cell_type": "code",
   "execution_count": 5,
   "id": "5f2179cc-5181-4886-90c5-7df8e92d79ea",
   "metadata": {
    "tags": []
   },
   "outputs": [],
   "source": [
    "# Funcion para extraer datos\n",
    "def extraer_datos(nombre_tabla, columna = '*'):\n",
    "    \n",
    "    try:\n",
    "        # Conexión a la base de datos de MySQL\n",
    "        conn = mysql.connector.connect(\n",
    "            host = \"localhost\",\n",
    "            user = \"root\",\n",
    "            password = contraseña_moran,\n",
    "            database = \"coches_segunda_mano\"\n",
    "        )\n",
    "        # Crear un cursor para ejecutar comandos SQL\n",
    "        cursor = conn.cursor()\n",
    "\n",
    "        # Crear la consulta SQL para seleccionar todos los datos de la tabla\n",
    "        query = f\"SELECT {columna} FROM {nombre_tabla}\"\n",
    "\n",
    "        # Ejecutar la consulta y recuperar los datos\n",
    "        cursor.execute(query)\n",
    "        resultado = cursor.fetchall()\n",
    "\n",
    "        # Obtener los nombres de las columnas de la tabla\n",
    "        columnas = [desc[0] for desc in cursor.description]\n",
    "\n",
    "        # Convertir los resultados a un DataFrame\n",
    "        df = pd.DataFrame(resultado, columns=columnas)\n",
    "\n",
    "        # Cerrar el cursor y la conexión\n",
    "        cursor.close()\n",
    "        conn.close()\n",
    "\n",
    "        # Devolver el DataFrame\n",
    "        print(f\"Datos de {nombre_tabla} extraidos correctamente\")\n",
    "        return df\n",
    "    \n",
    "    except mysql.connector.Error as e:\n",
    "        print(f\"Error al conectar con la base de datos: {e}\")\n",
    "        return pd.DataFrame() \n",
    "    \n",
    "    finally:\n",
    "        # Asegurarse de cerrar la conexión y el cursor\n",
    "        if 'cursor' in locals():\n",
    "            cursor.close()\n",
    "        if 'conn' in locals():\n",
    "            conn.close()"
   ]
  },
  {
   "cell_type": "code",
   "execution_count": 6,
   "id": "bdbb84cd-a80e-41dd-8c25-3428ead2abec",
   "metadata": {
    "tags": []
   },
   "outputs": [
    {
     "name": "stdout",
     "output_type": "stream",
     "text": [
      "Datos de links_coches extraidos correctamente\n"
     ]
    }
   ],
   "source": [
    "df_lista_coches = extraer_datos('links_coches')\n",
    "enlaces_antiguos = set(df_lista_coches['link_anuncio'])"
   ]
  },
  {
   "cell_type": "code",
   "execution_count": 7,
   "id": "157d7b10-88af-4c70-8d46-b4a0d20fff4d",
   "metadata": {
    "tags": []
   },
   "outputs": [
    {
     "name": "stdout",
     "output_type": "stream",
     "text": [
      "Total de coches: 103627\n",
      "Total de páginas: 6096\n"
     ]
    }
   ],
   "source": [
    "url = f\"https://www.autocasion.com/coches-ocasion\"\n",
    "browser = webdriver.Chrome()\n",
    "browser.get(url)\n",
    "html = browser.page_source\n",
    "soup = BeautifulSoup(html, 'html.parser')\n",
    "\n",
    "anuncios_pagina = soup.find_all(\"article\", class_=\"anuncio\")\n",
    "\n",
    "total_coches = int(soup.find('div', class_=\"container listado\").find('h1').text.strip().split('\\n')[0].replace('.',''))\n",
    "\n",
    "total_paginas = int(total_coches/len(anuncios_pagina)) + (1 if (total_coches/len(anuncios_pagina))%1 else 0)\n",
    "\n",
    "browser.quit()\n",
    "\n",
    "print(f\"Total de coches: {total_coches}\")\n",
    "print(f\"Total de páginas: {total_paginas}\")"
   ]
  },
  {
   "cell_type": "code",
   "execution_count": 8,
   "id": "7bdd9fb9-81ce-49d6-9d70-95080ab18d4d",
   "metadata": {
    "tags": []
   },
   "outputs": [
    {
     "name": "stderr",
     "output_type": "stream",
     "text": [
      "  0%|          | 23/6096 [03:20<14:12:33,  8.42s/it]"
     ]
    },
    {
     "name": "stdout",
     "output_type": "stream",
     "text": [
      "Error procesando un anuncio: 404 Client Error: Not Found for url: https://images0.autocasion.com/unsafe/500x/ad/03/2999/e92c22373f42e78a6c116c3fe856d88fbae3a266.jpeg\n"
     ]
    },
    {
     "name": "stderr",
     "output_type": "stream",
     "text": [
      " 10%|█         | 625/6096 [1:27:10<12:43:07,  8.37s/it]\n"
     ]
    },
    {
     "name": "stdout",
     "output_type": "stream",
     "text": [
      "Anuncios totales únicos: 5105\n"
     ]
    }
   ],
   "source": [
    "data = []\n",
    "total_anuncios = set()\n",
    "browser = webdriver.Chrome()\n",
    "\n",
    "try:\n",
    "    detener_bucle = False\n",
    "    \n",
    "    for i in tqdm.tqdm(range(1, total_paginas + 1)):\n",
    "        if detener_bucle:\n",
    "            break\n",
    "            \n",
    "        url = f\"https://www.autocasion.com/coches-ocasion?page={i}&direction=desc&sort=updated_at\"\n",
    "        browser.get(url)\n",
    "        sleep(random.uniform(2, 5))\n",
    "        \n",
    "        soup = BeautifulSoup(browser.page_source, \"html.parser\")\n",
    "        coches_disponibles = int(soup.find('div', class_=\"container listado\").find('h1').text.strip().split('\\n')[0].replace('.', ''))\n",
    "        \n",
    "        if coches_disponibles == 0:\n",
    "            break\n",
    "        \n",
    "        # Encontrar todos los anuncios en la página\n",
    "        anuncios_pagina = soup.find_all(\"article\", class_=\"anuncio\")\n",
    "\n",
    "        for anuncio in anuncios_pagina:\n",
    "            try:\n",
    "                \n",
    "                link_anuncio = anuncio.find(\"button\", class_=\"copiar\")[\"rel\"]\n",
    "\n",
    "                # Si el anuncio ya está en los antiguos, detener el bucle\n",
    "                # if link_anuncio in enlaces_antiguos:\n",
    "                #     print(f\"Anuncio ya existente encontrado: {link_anuncio}. Deteniendo el bucle.\")\n",
    "                #     detener_bucle = True\n",
    "                #     break\n",
    "\n",
    "                # Si el anuncio ya fue procesado en esta extracción, omitir\n",
    "                if link_anuncio in total_anuncios:\n",
    "                    continue\n",
    "\n",
    "                total_anuncios.add(link_anuncio)\n",
    "\n",
    "                # Extraer y procesar la foto\n",
    "                link_foto = anuncio.find(\"img\")[\"src\"]\n",
    "                response_img = requests.get(link_foto, stream=True)\n",
    "                response_img.raise_for_status()\n",
    "                foto_binaria = response_img.content\n",
    "\n",
    "                data.append({\n",
    "                    \"link_anuncio\": link_anuncio,\n",
    "                    \"foto_binaria\": foto_binaria\n",
    "                })\n",
    "\n",
    "            except Exception as e:\n",
    "                print(f\"Error procesando un anuncio: {e}\")\n",
    "                continue\n",
    "finally:\n",
    "    browser.quit()\n",
    "    \n",
    "print(f\"Anuncios totales únicos: {len(total_anuncios)}\")"
   ]
  },
  {
   "cell_type": "code",
   "execution_count": 9,
   "id": "8252804e-ecb0-466d-b887-a78f91b57418",
   "metadata": {
    "tags": []
   },
   "outputs": [
    {
     "name": "stdout",
     "output_type": "stream",
     "text": [
      "Enlaces nuevos añadidos: 4970\n"
     ]
    }
   ],
   "source": [
    "enlaces_nuevos = total_anuncios - enlaces_antiguos\n",
    "print(f\"Enlaces nuevos añadidos: {len(enlaces_nuevos)}\")"
   ]
  },
  {
   "cell_type": "code",
   "execution_count": 10,
   "id": "4a0df208-9000-48f1-8c88-032802e3eb77",
   "metadata": {
    "tags": []
   },
   "outputs": [],
   "source": [
    "index = df_lista_coches['id_coche'].max()+ 1 if not df_lista_coches.empty else 1\n",
    "\n",
    "df_links = pd.DataFrame(data)\n",
    "df_nuevos_links = df_links[df_links['link_anuncio'].isin(enlaces_nuevos)]\n",
    "df_nuevos_links = df_nuevos_links.reset_index(drop=True)\n",
    "df_nuevos_links['id_coche'] = range(index, index + len(df_nuevos_links))\n",
    "df_nuevos_links = df_nuevos_links[['id_coche', 'link_anuncio', 'foto_binaria']]"
   ]
  },
  {
   "cell_type": "code",
   "execution_count": 11,
   "id": "b66debf3-be6f-4872-a80f-1575d380cd85",
   "metadata": {
    "tags": []
   },
   "outputs": [],
   "source": [
    "def insertar_datos_en_lotes(df, nombre_tabla, lote=100):\n",
    "    # Conexión a la base de datos MySQL\n",
    "    conn = mysql.connector.connect(\n",
    "        host=\"localhost\",\n",
    "        user=\"root\",\n",
    "        password=contraseña_moran,\n",
    "        database=\"coches_segunda_mano\"\n",
    "    )\n",
    "    cursor = conn.cursor()\n",
    "\n",
    "    columnas = df.columns.tolist()\n",
    "    query = f\"\"\"\n",
    "        INSERT INTO {nombre_tabla} ({', '.join(columnas)})\n",
    "        VALUES ({', '.join(['%s'] * len(columnas))})\n",
    "    \"\"\"\n",
    "\n",
    "    # Dividir el DataFrame en lotes\n",
    "    for i in range(0, len(df), lote):\n",
    "        valores = [tuple(row) for row in df.iloc[i:i + lote].to_numpy()]\n",
    "        cursor.executemany(query, valores)\n",
    "        conn.commit()\n",
    "\n",
    "    cursor.close()\n",
    "    conn.close()\n",
    "    print(f\"Datos insertados en {nombre_tabla} correctamente.\")"
   ]
  },
  {
   "cell_type": "markdown",
   "id": "bfda9bac-0c8c-4efe-aefa-eba6e823e721",
   "metadata": {
    "jp-MarkdownHeadingCollapsed": true,
    "tags": []
   },
   "source": [
    "## Scraping links nuevos y subirlos a la bbdd"
   ]
  },
  {
   "cell_type": "code",
   "execution_count": 13,
   "id": "620ed3e7-ff1d-46bb-bd34-6da4841f4ffc",
   "metadata": {
    "tags": []
   },
   "outputs": [],
   "source": [
    "# Función para buscar y extraer un valor específico de cada cadena\n",
    "def buscar_detalle(texto, campo):\n",
    "    # Usamos expresiones regulares para capturar el campo deseado seguido de su valor\n",
    "    pattern = rf\"{campo}\\s*:\\s*([^\\n]+)\"\n",
    "    match = re.search(pattern, texto)\n",
    "    return match.group(1).strip() if match else None"
   ]
  },
  {
   "cell_type": "code",
   "execution_count": 14,
   "id": "2fef79e9-a610-4c08-92cb-36716ce4b0e2",
   "metadata": {
    "tags": []
   },
   "outputs": [
    {
     "name": "stderr",
     "output_type": "stream",
     "text": [
      "100%|██████████| 4969/4969 [10:19:18<00:00,  7.48s/it]  \n"
     ]
    }
   ],
   "source": [
    "coches_df = dict()\n",
    "browser = webdriver.Chrome()\n",
    "\n",
    "for coche in tqdm.tqdm(df_nuevos_links['link_anuncio']):\n",
    "    #print(coche)\n",
    "    \n",
    "    try: \n",
    "        url_coche = coche\n",
    "        browser.get(url_coche)\n",
    "        soup = BeautifulSoup(browser.page_source)\n",
    "        \n",
    "    except: \n",
    "        continue\n",
    "        \n",
    "    \n",
    "    try:\n",
    "        if 'Vehículo vendido' in soup.find('div', class_= 'img-ficha').find('p').text.replace('X',''):\n",
    "            continue\n",
    "            \n",
    "    except: \n",
    "        \n",
    "        pass\n",
    "    \n",
    "    info_coche = {}\n",
    "            \n",
    "    try: \n",
    "        info_coche['provincia'] = soup.find_all('div', class_= 'etiquetas')[1].find_all('span')[4].text\n",
    "        \n",
    "    except: \n",
    "        info_coche['provincia'] = 'no disponible'\n",
    "        \n",
    "    info_coche['link_coche'] = coche\n",
    "    info_coche['fecha_extraccion'] = datetime.now().strftime(\"%d/%m/%Y\")\n",
    "    info_coche['marca_modelo'] = soup.find('h2').text\n",
    "    try:\n",
    "        info_coche['fecha_matriculacion'] = soup.find('ul', class_= 'datos-basicos-ficha').find('span', class_= 'icon icon-calendario').find_previous().text.strip()\n",
    "    \n",
    "    except: \n",
    "        continue\n",
    "    \n",
    "    info_coche['kilometraje'] = soup.find('ul', class_= 'datos-basicos-ficha').find('span', class_= 'icon icon-velocimetro').find_previous().text.replace('.','').replace('km','').strip()\n",
    "    \n",
    "    lista_detalles_vendedor = soup.find('div', class_= 'datos-concesionario').find('p').text.strip().split('\\n')\n",
    "    info_coche['nombre_vendedor'] = lista_detalles_vendedor[0]\n",
    "    info_coche['tipo_vendedor'] = lista_detalles_vendedor[1].strip()\n",
    "        \n",
    "    try:\n",
    "        #puede haber o no\n",
    "        info_coche['distintivo_ambiental'] = soup.find_all('div', class_= 'etiquetas')[1].find('img')['alt']\n",
    "        \n",
    "    except:\n",
    "        info_coche['distintivo_ambiental'] = 'no disponible'\n",
    "    try:\n",
    "        #puede haber o no\n",
    "        info_coche['garantia'] = soup.find('ul', class_= 'datos-basicos-ficha').find('span', class_= 'icon icon-file').find_previous().text.replace('Garantía: ', '').strip()\n",
    "        \n",
    "    except:\n",
    "        info_coche['garantia'] = 'sin garantía'\n",
    "    \n",
    "    \n",
    "    detalles_precio = soup.find('ul', class_= 'tabla-precio').find_all('li')\n",
    "\n",
    "    for detalle in detalles_precio:\n",
    "        detalle = detalle.text.replace('\\n','').strip()\n",
    "\n",
    "        if 'Precio al contado' in detalle: \n",
    "            info_coche['precio_contado'] = detalle.replace('\\n', '').split(':')[1].replace('.', '').replace('€','').strip()\n",
    "        elif 'Precio de venta nuevo' in detalle: \n",
    "            info_coche['precio_nuevo'] = detalle.replace('\\n', '').split('*')[1].strip().replace('.','').split()[0]\n",
    "            \n",
    "    if 'precio_nuevo' not in info_coche:\n",
    "        info_coche['precio_nuevo'] = 'no disponible'\n",
    "    \n",
    "    div_ficha_tecnica = soup.find('div', class_='bloque ficha-tecnica') \n",
    "    div_no_eurotax = soup.find('div', class_= 'bloque no-eurotax')\n",
    "    \n",
    "    if div_ficha_tecnica:\n",
    "        \n",
    "        try: \n",
    "            detalles_carroceria = div_ficha_tecnica.find('ul', class_= 'tab-spec-1 active').find_all('li')\n",
    "            for detalle in detalles_carroceria:\n",
    "                detalle = detalle.text.replace('Medidas','').strip()\n",
    "\n",
    "                if 'Largo' in detalle: \n",
    "                    info_coche['largo'] = detalle\n",
    "                elif 'Ancho' in detalle: \n",
    "                    info_coche['ancho'] = detalle\n",
    "                elif 'Alto' in detalle: \n",
    "                    info_coche['alto'] = detalle\n",
    "                #el primer número es la capacidad del maletero normal, el segundo la capacidad del maletero con los asientos abatidos\n",
    "                elif 'Capacidad del maletero' in detalle: \n",
    "                    info_coche['capacidad_maletero'] = detalle\n",
    "                elif 'Carrocería' in detalle: \n",
    "                    info_coche['carroceria'] = detalle\n",
    "                elif 'Número de plazas' in detalle: \n",
    "                    info_coche['num_plazas'] = detalle\n",
    "                elif 'Número de puertas' in detalle: \n",
    "                    info_coche['num_puertas'] = detalle\n",
    "                elif 'Batalla' in detalle: \n",
    "                    info_coche['batalla'] = detalle\n",
    "                #supongo que si hay dos pesos el segundo será la masa max. autorizada\n",
    "                elif 'Peso' in detalle: \n",
    "                    info_coche['peso'] = detalle\n",
    "                    \n",
    "        except:   \n",
    "            info_coche['largo'] = 'no disponible'\n",
    "            info_coche['ancho'] = 'no disponible'\n",
    "            info_coche['alto'] = 'no disponible'\n",
    "            info_coche['capacidad_maletero'] = 'no disponible'\n",
    "            info_coche['carroceria'] = 'no disponible'\n",
    "            info_coche['num_plazas'] = 'no disponible'\n",
    "            info_coche['num_puertas'] = 'no disponible'\n",
    "            info_coche['batalla'] = 'no disponible'\n",
    "            info_coche['peso'] = 'no disponible'\n",
    "                \n",
    "           \n",
    "        try:\n",
    "            detalles_consumos = div_ficha_tecnica.find('ul', class_= 'tab-spec-2').find_all('li')\n",
    "            for detalle in detalles_consumos:\n",
    "                detalle = ' '.join(detalle.text.replace('\\n','').split())\n",
    "\n",
    "                if 'Consumo medio' in detalle: \n",
    "                    info_coche['consumo_medio'] = detalle\n",
    "                elif 'Consumo en carretera' in detalle: \n",
    "                    info_coche['consumo_carretera'] = detalle\n",
    "                elif 'Consumo urbano' in detalle: \n",
    "                    info_coche['consumo_urbano'] = detalle\n",
    "                elif 'CO2' in detalle: \n",
    "                    info_coche['CO2'] = detalle\n",
    "                elif 'Depósito' in detalle: \n",
    "                    info_coche['deposito'] = detalle\n",
    "                    \n",
    "        except: \n",
    "            info_coche['consumo_medio'] = 'no disponible'\n",
    "            info_coche['consumo_carretera'] = 'no disponible'\n",
    "            info_coche['consumo_urbano'] = 'no disponible'\n",
    "            info_coche['CO2'] = 'no disponible'\n",
    "            info_coche['deposito'] = 'no disponible'        \n",
    "        \n",
    "        try:\n",
    "            detalles_motor = div_ficha_tecnica.find('ul', class_= 'tab-spec-3').find_all('li')\n",
    "            for detalle in detalles_motor:\n",
    "                detalle = detalle.text.replace('\\n', ' ').strip()\n",
    "\n",
    "                if 'Combustible' in detalle: \n",
    "                    info_coche['combustible'] = detalle\n",
    "                elif 'Nº de cilindros' in detalle: \n",
    "                    info_coche['cilindros'] = detalle\n",
    "                elif 'Cilindrada' in detalle: \n",
    "                    info_coche['cilindrada'] = detalle\n",
    "                elif 'Sobrealimentación' in detalle: \n",
    "                    info_coche['sobrealimentacion'] = detalle\n",
    "                    \n",
    "        except: \n",
    "            info_coche['combustible'] = 'no disponible'\n",
    "            info_coche['cilindros'] = 'no disponible'\n",
    "            info_coche['cilindrada'] = 'no disponible'\n",
    "            info_coche['sobrealimentacion'] = 'no disponible'\n",
    "\n",
    "        try:\n",
    "            detalles_transmision = div_ficha_tecnica.find('ul', class_= 'tab-spec-4').find_all('li')\n",
    "            for detalle in detalles_transmision:\n",
    "                detalle = detalle.text.replace('\\n', ' ').strip()\n",
    "\n",
    "                if 'Tipo de transmisión' in detalle: \n",
    "                    info_coche['tipo_cambio'] = detalle\n",
    "                elif 'Tracción' in detalle: \n",
    "                    info_coche['traccion'] = detalle\n",
    "                elif 'Número de marchas' in detalle: \n",
    "                    info_coche['num_marchas'] = detalle\n",
    "                    \n",
    "        except: \n",
    "            info_coche['tipo_cambio'] = 'no disponible'\n",
    "            info_coche['traccion'] = 'no disponible'\n",
    "            info_coche['num_marchas'] = 'no disponible'\n",
    "\n",
    "        try:\n",
    "            detalles_prestaciones = div_ficha_tecnica.find('ul', class_= 'tab-spec-5').find_all('li')\n",
    "            for detalle in detalles_prestaciones:\n",
    "                detalle = detalle.text\n",
    "\n",
    "                if 'Potencia (KW)' in detalle: \n",
    "                    info_coche['potencia_kw'] = detalle\n",
    "                elif 'Potencia (CV)' in detalle: \n",
    "                    info_coche['potencia_cv'] = detalle\n",
    "                elif 'Par' in detalle: \n",
    "                    info_coche['par'] = detalle\n",
    "                elif 'Velocidad' in detalle: \n",
    "                    info_coche['velocidad_max'] = detalle\n",
    "                elif 'Aceleración' in detalle: \n",
    "                    info_coche['aceleracion'] = detalle\n",
    "                    \n",
    "        except: \n",
    "            info_coche['potencia_kw'] = 'no disponible'\n",
    "            info_coche['potencia_cv'] = 'no disponible'\n",
    "            info_coche['par'] = 'no disponible'\n",
    "            info_coche['velocidad_max'] = 'no disponible'\n",
    "            info_coche['aceleracion'] = 'no disponible'\n",
    "                \n",
    "    elif div_no_eurotax: \n",
    "        \n",
    "        ficha_no_eurotax = div_no_eurotax.find_all('ul')\n",
    "        lista_ficha_no_eurotax = []\n",
    "        for elemento in range(0,len(ficha_no_eurotax)):\n",
    "            detalle = div_no_eurotax.find_all('ul')[elemento].text\n",
    "    \n",
    "            if \"Carrocería\" in detalle:\n",
    "                info_coche['carroceria'] = buscar_detalle(detalle, \"Carrocería\")\n",
    "                info_coche['num_puertas'] = buscar_detalle(detalle, \"Número de puertas\")\n",
    "                info_coche['num_plazas'] = buscar_detalle(detalle, \"Número de plazas\")\n",
    "                info_coche['peso'] = buscar_detalle(detalle, \"Peso\")\n",
    "\n",
    "            elif \"Consumo y emisiones\" in detalle: \n",
    "                info_coche['consumo_medio']= buscar_detalle(detalle, \"Medio \\(l/100 km\\)\")\n",
    "                info_coche['consumo_carretera']= buscar_detalle(detalle, \"Carretera \\(l/100 km\\)\")\n",
    "                info_coche['consumo_urbano']= buscar_detalle(detalle, \"Urbano \\(l/100 km\\)\")\n",
    "\n",
    "            elif \"Motor\" in detalle:\n",
    "                info_coche['combustible'] = buscar_detalle(detalle, \"Combustible\")\n",
    "                info_coche['potencia_cv'] = buscar_detalle(detalle, \"Potencia\")\n",
    "                info_coche['cilindrada'] = buscar_detalle(detalle, \"Cilindrada\")\n",
    "            elif \"Transmisión\" in detalle:\n",
    "                info_coche['tipo_cambio'] = buscar_detalle(detalle, \"Tipo de cambio\")\n",
    "                info_coche['num_marchas'] = buscar_detalle(detalle, \"Marchas\")\n",
    "                \n",
    "    coches_df[(len(coches_df))] = info_coche\n",
    "    \n",
    "    time.sleep(random.uniform(3, 6))\n",
    "    \n",
    "browser.quit()"
   ]
  },
  {
   "cell_type": "code",
   "execution_count": 341,
   "id": "54556360-6383-40e3-9035-1732a7b9ab47",
   "metadata": {
    "tags": []
   },
   "outputs": [],
   "source": [
    "df = pd.DataFrame.from_dict(coches_df).T"
   ]
  },
  {
   "cell_type": "code",
   "execution_count": 343,
   "id": "4b0965c4-f084-4c97-b893-7f60ca4fbbbd",
   "metadata": {
    "tags": []
   },
   "outputs": [
    {
     "name": "stdout",
     "output_type": "stream",
     "text": [
      "Datos insertados en links_coches correctamente.\n"
     ]
    }
   ],
   "source": [
    "insertar_datos_en_lotes(df_nuevos_links, 'links_coches')"
   ]
  },
  {
   "cell_type": "markdown",
   "id": "36772366-b245-48f1-8a4c-3f467806341f",
   "metadata": {
    "jp-MarkdownHeadingCollapsed": true,
    "tags": []
   },
   "source": [
    "## Scraping marcas"
   ]
  },
  {
   "cell_type": "code",
   "execution_count": 345,
   "id": "f894171c-c91c-4b45-81cb-2172c8358937",
   "metadata": {
    "tags": []
   },
   "outputs": [
    {
     "name": "stdout",
     "output_type": "stream",
     "text": [
      "Datos de marcas extraidos correctamente\n"
     ]
    }
   ],
   "source": [
    "tabla_marcas = extraer_datos('marcas', columna = '*')\n",
    "marcas_guardadas = set(tabla_marcas['nombre_marca'])"
   ]
  },
  {
   "cell_type": "code",
   "execution_count": 347,
   "id": "172fc586-214e-4226-9205-069f600a8e5f",
   "metadata": {
    "tags": []
   },
   "outputs": [],
   "source": [
    "browser = webdriver.Chrome()\n",
    "url = 'https://www.autocasion.com/marcas'\n",
    "browser.get(url)\n",
    "soup = BeautifulSoup(browser.page_source)\n",
    "marcas = soup.find('ul', class_= 'marcas').find_all('span')\n",
    "\n",
    "\n",
    "marcas_nuevas = {}\n",
    "index = tabla_marcas['id_marca'].max() + 1 if not tabla_marcas.empty else 1\n",
    "for marca in marcas:\n",
    "    marca = marca.text.strip().upper()\n",
    "    \n",
    "    if marca not in marcas_guardadas:\n",
    "    \n",
    "        marcas_nuevas[index] = marca\n",
    "        index += 1\n",
    "    \n",
    "browser.quit()\n",
    "\n",
    "df_nuevas_marcas = pd.DataFrame.from_dict(marcas_nuevas, orient='index', columns=['nombre_marca']).reset_index()\n",
    "df_nuevas_marcas.rename(columns={'index': 'id_marca'}, inplace=True)"
   ]
  },
  {
   "cell_type": "code",
   "execution_count": 348,
   "id": "f6cb24cc-43cf-4786-86c9-6b3c6b5c7d71",
   "metadata": {
    "tags": []
   },
   "outputs": [
    {
     "name": "stdout",
     "output_type": "stream",
     "text": [
      "No hay nuevas marcas para insertar.\n"
     ]
    }
   ],
   "source": [
    "if not df_nuevas_marcas.empty:\n",
    "    \n",
    "    insertar_datos_en_lotes(df_nuevas_marcas, 'marcas', lote=100)\n",
    "    \n",
    "    print(f\"{len(df_nuevas_marcas)} marcas nuevas insertadas.\")\n",
    "else:\n",
    "    print(\"No hay nuevas marcas para insertar.\")"
   ]
  },
  {
   "cell_type": "markdown",
   "id": "15091b49-2ae2-433d-a6d3-e19776b66bf6",
   "metadata": {
    "jp-MarkdownHeadingCollapsed": true,
    "tags": []
   },
   "source": [
    "## Limpiar datos nuevos"
   ]
  },
  {
   "cell_type": "code",
   "execution_count": 350,
   "id": "a3aed65f-2c5c-4bae-b57c-dd7ca68a50b6",
   "metadata": {
    "scrolled": true,
    "tags": []
   },
   "outputs": [
    {
     "data": {
      "text/html": [
       "<div>\n",
       "<style scoped>\n",
       "    .dataframe tbody tr th:only-of-type {\n",
       "        vertical-align: middle;\n",
       "    }\n",
       "\n",
       "    .dataframe tbody tr th {\n",
       "        vertical-align: top;\n",
       "    }\n",
       "\n",
       "    .dataframe thead th {\n",
       "        text-align: right;\n",
       "    }\n",
       "</style>\n",
       "<table border=\"1\" class=\"dataframe\">\n",
       "  <thead>\n",
       "    <tr style=\"text-align: right;\">\n",
       "      <th></th>\n",
       "      <th>Columna</th>\n",
       "      <th>Valores únicos</th>\n",
       "      <th>% nulos</th>\n",
       "      <th>% of values in the biggest category</th>\n",
       "      <th>tipo</th>\n",
       "    </tr>\n",
       "  </thead>\n",
       "  <tbody>\n",
       "    <tr>\n",
       "      <th>24</th>\n",
       "      <td>CO2</td>\n",
       "      <td>173</td>\n",
       "      <td>37.312829</td>\n",
       "      <td>37.312829</td>\n",
       "      <td>object</td>\n",
       "    </tr>\n",
       "    <tr>\n",
       "      <th>37</th>\n",
       "      <td>aceleracion</td>\n",
       "      <td>135</td>\n",
       "      <td>37.049777</td>\n",
       "      <td>37.049777</td>\n",
       "      <td>object</td>\n",
       "    </tr>\n",
       "    <tr>\n",
       "      <th>36</th>\n",
       "      <td>velocidad_max</td>\n",
       "      <td>133</td>\n",
       "      <td>37.049777</td>\n",
       "      <td>37.049777</td>\n",
       "      <td>object</td>\n",
       "    </tr>\n",
       "    <tr>\n",
       "      <th>35</th>\n",
       "      <td>par</td>\n",
       "      <td>168</td>\n",
       "      <td>37.029543</td>\n",
       "      <td>37.029543</td>\n",
       "      <td>object</td>\n",
       "    </tr>\n",
       "    <tr>\n",
       "      <th>18</th>\n",
       "      <td>batalla</td>\n",
       "      <td>269</td>\n",
       "      <td>37.029543</td>\n",
       "      <td>37.029543</td>\n",
       "      <td>object</td>\n",
       "    </tr>\n",
       "    <tr>\n",
       "      <th>15</th>\n",
       "      <td>capacidad_maletero</td>\n",
       "      <td>605</td>\n",
       "      <td>37.029543</td>\n",
       "      <td>37.029543</td>\n",
       "      <td>object</td>\n",
       "    </tr>\n",
       "    <tr>\n",
       "      <th>33</th>\n",
       "      <td>potencia_kw</td>\n",
       "      <td>188</td>\n",
       "      <td>36.766491</td>\n",
       "      <td>36.766491</td>\n",
       "      <td>object</td>\n",
       "    </tr>\n",
       "    <tr>\n",
       "      <th>31</th>\n",
       "      <td>traccion</td>\n",
       "      <td>6</td>\n",
       "      <td>36.746257</td>\n",
       "      <td>51.578308</td>\n",
       "      <td>object</td>\n",
       "    </tr>\n",
       "    <tr>\n",
       "      <th>29</th>\n",
       "      <td>sobrealimentacion</td>\n",
       "      <td>8</td>\n",
       "      <td>36.746257</td>\n",
       "      <td>36.746257</td>\n",
       "      <td>object</td>\n",
       "    </tr>\n",
       "    <tr>\n",
       "      <th>27</th>\n",
       "      <td>cilindros</td>\n",
       "      <td>11</td>\n",
       "      <td>36.746257</td>\n",
       "      <td>36.746257</td>\n",
       "      <td>object</td>\n",
       "    </tr>\n",
       "    <tr>\n",
       "      <th>25</th>\n",
       "      <td>deposito</td>\n",
       "      <td>72</td>\n",
       "      <td>36.746257</td>\n",
       "      <td>36.746257</td>\n",
       "      <td>object</td>\n",
       "    </tr>\n",
       "    <tr>\n",
       "      <th>12</th>\n",
       "      <td>largo</td>\n",
       "      <td>543</td>\n",
       "      <td>36.746257</td>\n",
       "      <td>36.746257</td>\n",
       "      <td>object</td>\n",
       "    </tr>\n",
       "    <tr>\n",
       "      <th>13</th>\n",
       "      <td>ancho</td>\n",
       "      <td>253</td>\n",
       "      <td>36.746257</td>\n",
       "      <td>36.746257</td>\n",
       "      <td>object</td>\n",
       "    </tr>\n",
       "    <tr>\n",
       "      <th>14</th>\n",
       "      <td>alto</td>\n",
       "      <td>348</td>\n",
       "      <td>36.746257</td>\n",
       "      <td>36.746257</td>\n",
       "      <td>object</td>\n",
       "    </tr>\n",
       "    <tr>\n",
       "      <th>17</th>\n",
       "      <td>num_plazas</td>\n",
       "      <td>12</td>\n",
       "      <td>35.714286</td>\n",
       "      <td>56.616754</td>\n",
       "      <td>object</td>\n",
       "    </tr>\n",
       "    <tr>\n",
       "      <th>32</th>\n",
       "      <td>num_marchas</td>\n",
       "      <td>17</td>\n",
       "      <td>35.431000</td>\n",
       "      <td>35.329826</td>\n",
       "      <td>object</td>\n",
       "    </tr>\n",
       "    <tr>\n",
       "      <th>19</th>\n",
       "      <td>peso</td>\n",
       "      <td>533</td>\n",
       "      <td>33.751518</td>\n",
       "      <td>33.367058</td>\n",
       "      <td>object</td>\n",
       "    </tr>\n",
       "    <tr>\n",
       "      <th>22</th>\n",
       "      <td>consumo_carretera</td>\n",
       "      <td>118</td>\n",
       "      <td>23.694860</td>\n",
       "      <td>21.934439</td>\n",
       "      <td>object</td>\n",
       "    </tr>\n",
       "    <tr>\n",
       "      <th>23</th>\n",
       "      <td>consumo_urbano</td>\n",
       "      <td>199</td>\n",
       "      <td>23.694860</td>\n",
       "      <td>21.974909</td>\n",
       "      <td>object</td>\n",
       "    </tr>\n",
       "    <tr>\n",
       "      <th>21</th>\n",
       "      <td>consumo_medio</td>\n",
       "      <td>184</td>\n",
       "      <td>10.683934</td>\n",
       "      <td>21.367867</td>\n",
       "      <td>object</td>\n",
       "    </tr>\n",
       "    <tr>\n",
       "      <th>28</th>\n",
       "      <td>cilindrada</td>\n",
       "      <td>250</td>\n",
       "      <td>5.726427</td>\n",
       "      <td>8.154593</td>\n",
       "      <td>object</td>\n",
       "    </tr>\n",
       "    <tr>\n",
       "      <th>34</th>\n",
       "      <td>potencia_cv</td>\n",
       "      <td>346</td>\n",
       "      <td>1.092675</td>\n",
       "      <td>8.700931</td>\n",
       "      <td>object</td>\n",
       "    </tr>\n",
       "    <tr>\n",
       "      <th>16</th>\n",
       "      <td>carroceria</td>\n",
       "      <td>17</td>\n",
       "      <td>0.384460</td>\n",
       "      <td>28.510724</td>\n",
       "      <td>object</td>\n",
       "    </tr>\n",
       "    <tr>\n",
       "      <th>20</th>\n",
       "      <td>num_puertas</td>\n",
       "      <td>8</td>\n",
       "      <td>0.384460</td>\n",
       "      <td>56.515581</td>\n",
       "      <td>object</td>\n",
       "    </tr>\n",
       "    <tr>\n",
       "      <th>26</th>\n",
       "      <td>combustible</td>\n",
       "      <td>15</td>\n",
       "      <td>0.101174</td>\n",
       "      <td>33.367058</td>\n",
       "      <td>object</td>\n",
       "    </tr>\n",
       "    <tr>\n",
       "      <th>30</th>\n",
       "      <td>tipo_cambio</td>\n",
       "      <td>10</td>\n",
       "      <td>0.101174</td>\n",
       "      <td>36.159450</td>\n",
       "      <td>object</td>\n",
       "    </tr>\n",
       "    <tr>\n",
       "      <th>6</th>\n",
       "      <td>nombre_vendedor</td>\n",
       "      <td>550</td>\n",
       "      <td>0.000000</td>\n",
       "      <td>7.304735</td>\n",
       "      <td>object</td>\n",
       "    </tr>\n",
       "    <tr>\n",
       "      <th>2</th>\n",
       "      <td>fecha_extraccion</td>\n",
       "      <td>2</td>\n",
       "      <td>0.000000</td>\n",
       "      <td>61.270741</td>\n",
       "      <td>object</td>\n",
       "    </tr>\n",
       "    <tr>\n",
       "      <th>3</th>\n",
       "      <td>marca_modelo</td>\n",
       "      <td>1567</td>\n",
       "      <td>0.000000</td>\n",
       "      <td>0.991501</td>\n",
       "      <td>object</td>\n",
       "    </tr>\n",
       "    <tr>\n",
       "      <th>4</th>\n",
       "      <td>fecha_matriculacion</td>\n",
       "      <td>245</td>\n",
       "      <td>0.000000</td>\n",
       "      <td>2.367463</td>\n",
       "      <td>object</td>\n",
       "    </tr>\n",
       "    <tr>\n",
       "      <th>5</th>\n",
       "      <td>kilometraje</td>\n",
       "      <td>3607</td>\n",
       "      <td>0.000000</td>\n",
       "      <td>2.711453</td>\n",
       "      <td>object</td>\n",
       "    </tr>\n",
       "    <tr>\n",
       "      <th>8</th>\n",
       "      <td>distintivo_ambiental</td>\n",
       "      <td>5</td>\n",
       "      <td>0.000000</td>\n",
       "      <td>61.048159</td>\n",
       "      <td>object</td>\n",
       "    </tr>\n",
       "    <tr>\n",
       "      <th>7</th>\n",
       "      <td>tipo_vendedor</td>\n",
       "      <td>25</td>\n",
       "      <td>0.000000</td>\n",
       "      <td>99.129907</td>\n",
       "      <td>object</td>\n",
       "    </tr>\n",
       "    <tr>\n",
       "      <th>11</th>\n",
       "      <td>precio_nuevo</td>\n",
       "      <td>1760</td>\n",
       "      <td>0.000000</td>\n",
       "      <td>36.928369</td>\n",
       "      <td>object</td>\n",
       "    </tr>\n",
       "    <tr>\n",
       "      <th>9</th>\n",
       "      <td>garantia</td>\n",
       "      <td>32</td>\n",
       "      <td>0.000000</td>\n",
       "      <td>78.004856</td>\n",
       "      <td>object</td>\n",
       "    </tr>\n",
       "    <tr>\n",
       "      <th>10</th>\n",
       "      <td>precio_contado</td>\n",
       "      <td>1429</td>\n",
       "      <td>0.000000</td>\n",
       "      <td>1.558074</td>\n",
       "      <td>object</td>\n",
       "    </tr>\n",
       "    <tr>\n",
       "      <th>1</th>\n",
       "      <td>link_coche</td>\n",
       "      <td>4942</td>\n",
       "      <td>0.000000</td>\n",
       "      <td>0.020235</td>\n",
       "      <td>object</td>\n",
       "    </tr>\n",
       "    <tr>\n",
       "      <th>0</th>\n",
       "      <td>provincia</td>\n",
       "      <td>45</td>\n",
       "      <td>0.000000</td>\n",
       "      <td>15.944962</td>\n",
       "      <td>object</td>\n",
       "    </tr>\n",
       "  </tbody>\n",
       "</table>\n",
       "</div>"
      ],
      "text/plain": [
       "                 Columna  Valores únicos    % nulos  \\\n",
       "24                   CO2             173  37.312829   \n",
       "37           aceleracion             135  37.049777   \n",
       "36         velocidad_max             133  37.049777   \n",
       "35                   par             168  37.029543   \n",
       "18               batalla             269  37.029543   \n",
       "15    capacidad_maletero             605  37.029543   \n",
       "33           potencia_kw             188  36.766491   \n",
       "31              traccion               6  36.746257   \n",
       "29     sobrealimentacion               8  36.746257   \n",
       "27             cilindros              11  36.746257   \n",
       "25              deposito              72  36.746257   \n",
       "12                 largo             543  36.746257   \n",
       "13                 ancho             253  36.746257   \n",
       "14                  alto             348  36.746257   \n",
       "17            num_plazas              12  35.714286   \n",
       "32           num_marchas              17  35.431000   \n",
       "19                  peso             533  33.751518   \n",
       "22     consumo_carretera             118  23.694860   \n",
       "23        consumo_urbano             199  23.694860   \n",
       "21         consumo_medio             184  10.683934   \n",
       "28            cilindrada             250   5.726427   \n",
       "34           potencia_cv             346   1.092675   \n",
       "16            carroceria              17   0.384460   \n",
       "20           num_puertas               8   0.384460   \n",
       "26           combustible              15   0.101174   \n",
       "30           tipo_cambio              10   0.101174   \n",
       "6        nombre_vendedor             550   0.000000   \n",
       "2       fecha_extraccion               2   0.000000   \n",
       "3           marca_modelo            1567   0.000000   \n",
       "4    fecha_matriculacion             245   0.000000   \n",
       "5            kilometraje            3607   0.000000   \n",
       "8   distintivo_ambiental               5   0.000000   \n",
       "7          tipo_vendedor              25   0.000000   \n",
       "11          precio_nuevo            1760   0.000000   \n",
       "9               garantia              32   0.000000   \n",
       "10        precio_contado            1429   0.000000   \n",
       "1             link_coche            4942   0.000000   \n",
       "0              provincia              45   0.000000   \n",
       "\n",
       "    % of values in the biggest category    tipo  \n",
       "24                            37.312829  object  \n",
       "37                            37.049777  object  \n",
       "36                            37.049777  object  \n",
       "35                            37.029543  object  \n",
       "18                            37.029543  object  \n",
       "15                            37.029543  object  \n",
       "33                            36.766491  object  \n",
       "31                            51.578308  object  \n",
       "29                            36.746257  object  \n",
       "27                            36.746257  object  \n",
       "25                            36.746257  object  \n",
       "12                            36.746257  object  \n",
       "13                            36.746257  object  \n",
       "14                            36.746257  object  \n",
       "17                            56.616754  object  \n",
       "32                            35.329826  object  \n",
       "19                            33.367058  object  \n",
       "22                            21.934439  object  \n",
       "23                            21.974909  object  \n",
       "21                            21.367867  object  \n",
       "28                             8.154593  object  \n",
       "34                             8.700931  object  \n",
       "16                            28.510724  object  \n",
       "20                            56.515581  object  \n",
       "26                            33.367058  object  \n",
       "30                            36.159450  object  \n",
       "6                              7.304735  object  \n",
       "2                             61.270741  object  \n",
       "3                              0.991501  object  \n",
       "4                              2.367463  object  \n",
       "5                              2.711453  object  \n",
       "8                             61.048159  object  \n",
       "7                             99.129907  object  \n",
       "11                            36.928369  object  \n",
       "9                             78.004856  object  \n",
       "10                             1.558074  object  \n",
       "1                              0.020235  object  \n",
       "0                             15.944962  object  "
      ]
     },
     "execution_count": 350,
     "metadata": {},
     "output_type": "execute_result"
    }
   ],
   "source": [
    "stats = []\n",
    "for col in df.columns:\n",
    "    stats.append((col, df[col].nunique(), df[col].isnull().sum() * 100 / df.shape[0], df[col].value_counts(normalize=True, dropna=False).values[0] * 100, df[col].dtype))\n",
    "    stats_df = pd.DataFrame(stats, columns=['Columna', 'Valores únicos', '% nulos', '% of values in the biggest category', 'tipo'])\n",
    "stats_df.sort_values('% nulos', ascending=False)"
   ]
  },
  {
   "cell_type": "code",
   "execution_count": 351,
   "id": "1e33addb-ef31-4c10-8fda-afdacabfe546",
   "metadata": {
    "tags": []
   },
   "outputs": [],
   "source": [
    "# Sólo nos interesan vendedores profesionales, los particulares representan un % mínimo y cubren los datos mínimos\n",
    "\n",
    "df = df[df[\"tipo_vendedor\"] == \"Profesional\"]\n",
    "df = df.drop(columns=['tipo_vendedor'])"
   ]
  },
  {
   "cell_type": "code",
   "execution_count": 352,
   "id": "377168cc-6831-499c-961a-f9d6d65e7240",
   "metadata": {
    "tags": []
   },
   "outputs": [],
   "source": [
    "#Hay nans que se toman como floats. Lo convierto a \"no disponible\"\n",
    "df['tipo_cambio'] = df['tipo_cambio'].fillna(\"no disponible\")\n",
    "\n",
    "#No sé qué es manual automatizada, si queremos que sea manual hay que poner la lambda al revés\n",
    "df['tipo_cambio'] = df['tipo_cambio'].apply(lambda x: 'Manual' if 'Manual' in x else 'Automático')"
   ]
  },
  {
   "cell_type": "code",
   "execution_count": 353,
   "id": "ee2c33d5-f1fb-43e2-807e-59b9b1c4ef35",
   "metadata": {
    "tags": []
   },
   "outputs": [],
   "source": [
    "df[\"carroceria\"] = df[\"carroceria\"].str.replace(\"Carrocería\",\"\")\n",
    "\n",
    "df[\"combustible\"] = df[\"combustible\"].str.replace(\"combustible \",\"\").str.replace(\"Combustible \",\"\")"
   ]
  },
  {
   "cell_type": "code",
   "execution_count": 354,
   "id": "07357d63-2583-4b55-8bd3-8f333674e760",
   "metadata": {
    "tags": []
   },
   "outputs": [],
   "source": [
    "df['fecha_matriculacion'] = df['fecha_matriculacion'].str.split(\"Matriculado: \").str[1]\n",
    "\n",
    "def limpiar_fecha(fecha):\n",
    "    try:\n",
    "        mes, ano = fecha.split('/')\n",
    "        return int(mes), int(ano)\n",
    "    except:\n",
    "        return np.nan, int(fecha)\n",
    "\n",
    "df[['mes_matriculacion', 'ano_matriculacion']] = df['fecha_matriculacion'].apply(lambda x: pd.Series(limpiar_fecha(x)))\n",
    "\n",
    "df = df.drop(columns=['fecha_matriculacion'])"
   ]
  },
  {
   "cell_type": "code",
   "execution_count": 355,
   "id": "0f3dc422-d3f9-4ab8-9b79-d7cb4c63d78d",
   "metadata": {
    "tags": []
   },
   "outputs": [],
   "source": [
    "df['mes_matriculacion'] = df['mes_matriculacion'].fillna(0).astype('int64')\n",
    "df['ano_matriculacion'] = df['ano_matriculacion'].fillna(0).astype('int64')"
   ]
  },
  {
   "cell_type": "code",
   "execution_count": 356,
   "id": "5a87b00c-847e-40aa-8035-e7c7896e2c4a",
   "metadata": {
    "tags": []
   },
   "outputs": [],
   "source": [
    "df[\"garantia\"] = df[\"garantia\"].str.split(' ').str[0].replace(\"Sí\",np.nan).replace(\"No\",0).astype(float)"
   ]
  },
  {
   "cell_type": "code",
   "execution_count": 357,
   "id": "ae411047-8248-49ab-af97-085353082719",
   "metadata": {
    "tags": []
   },
   "outputs": [],
   "source": [
    "df[\"precio_contado\"] = pd.to_numeric(df[\"precio_contado\"], errors='coerce')\n",
    "\n",
    "df[\"precio_nuevo\"] = pd.to_numeric(df[\"precio_nuevo\"], errors='coerce')\n",
    "\n",
    "df['largo'] = pd.to_numeric(df['largo'].str.extract('(\\d+\\.?\\d*)')[0], errors='coerce')\n",
    "df['ancho'] = pd.to_numeric(df['ancho'].str.extract('(\\d+\\.?\\d*)')[0], errors='coerce')\n",
    "df['alto'] = pd.to_numeric(df['alto'].str.extract('(\\d+\\.?\\d*)')[0], errors='coerce')\n",
    "\n",
    "df['capacidad_maletero'] = pd.to_numeric(df['capacidad_maletero'].str.extract(r'(\\d+\\.?\\d*)')[0], errors='coerce')\n",
    "df[\"num_plazas\"] = df[\"num_plazas\"].str.split(\"s\").str[1].astype(\"Int64\")\n",
    "df[\"batalla\"] = (df[\"batalla\"].str.replace(r'Batalla \\(mm\\)\\s*', '', regex=True).str.replace('.', '', regex=False))\n",
    "df[\"batalla\"] = pd.to_numeric(df[\"batalla\"], errors='coerce').astype(\"Int64\")\n",
    "df[\"peso\"] = df[\"peso\"].str.replace('Peso/Masa max. autorizado (kg)', '').str.replace('.','').astype(\"Int64\")\n",
    "df[\"num_puertas\"] = df[\"num_puertas\"].str.extract(r'(\\d+)').astype(\"Int64\")\n",
    "df[\"consumo_medio\"] = df[\"consumo_medio\"].str.extract(r'(\\d+,\\d+)').replace(',', '.', regex=True).astype(float)\n",
    "df[\"consumo_carretera\"] = df[\"consumo_carretera\"].str.extract(r'(\\d+,\\d+)').replace(',', '.', regex=True).astype(float)\n",
    "df[\"consumo_urbano\"] = df[\"consumo_urbano\"].str.extract(r'(\\d+,\\d+)').replace(',', '.', regex=True).astype(float)\n",
    "df[\"co2\"] = df[\"CO2\"].str.extract(r'(\\d{1,3})(?= g/km)')[0].astype(float)\n",
    "df[\"num_cilindros\"] = df[\"cilindros\"].str.extract(r'(\\d+)').astype(\"Int64\")\n",
    "df[\"cilindrada\"] = df[\"cilindrada\"].str.extract(r'(\\d+,\\d+|\\d+\\.\\d+)', expand=False).str.replace(',', '').str.replace('.', '').astype(\"Int64\")\n",
    "df[\"deposito\"] = df[\"deposito\"].str.extract(r'(\\d+,\\d+)').replace(',', '.', regex=True).astype(float)\n",
    "\n",
    "df[\"num_marchas\"] = df[\"num_marchas\"].str.extract(r'(\\d+)').astype(\"Int64\")\n",
    "df[\"potencia_kw\"] = df[\"potencia_kw\"].str.extract(r'(\\d+)').astype(\"Int64\")\n",
    "df[\"potencia_cv\"] = df[\"potencia_cv\"].str.extract(r'(\\d+)').astype(\"Int64\")\n",
    "df[\"par\"] = df[\"par\"].str.extract(r'(\\d+)').astype(\"Int64\")\n",
    "df[\"velocidad_max\"] = df[\"velocidad_max\"].str.extract(r'(\\d+)').astype(\"Int64\")\n",
    "df[\"aceleracion\"] = df[\"aceleracion\"].str.extract(r'(\\d+,\\d+|\\d+\\.\\d+)')[0].str.replace(\",\", \".\").astype(float)\n",
    "df['id_sobrealimentacion'] = df['sobrealimentacion'].apply(lambda x: x.replace('Sobrealimentación', '').replace('Tipo de sobrealimentador', 'no disponible').strip() if pd.notna(x) and x != '-' else 'no disponible')"
   ]
  },
  {
   "cell_type": "code",
   "execution_count": 358,
   "id": "f05ebb11-bf02-4637-835e-24699dc5e5ea",
   "metadata": {
    "tags": []
   },
   "outputs": [],
   "source": [
    "df[\"traccion\"] = df['traccion'].fillna(\"no disponible\")\n",
    "df[\"traccion\"] = df[\"traccion\"].str.replace('Tracción', '').str.replace('Todo terreno tracción', '').apply(lambda x: x.strip())"
   ]
  },
  {
   "cell_type": "code",
   "execution_count": 359,
   "id": "7d769027-e6f6-4fe3-bede-763ea6d591ed",
   "metadata": {
    "tags": []
   },
   "outputs": [],
   "source": [
    "#marca_listado = extraer_datos('marcas', columna = 'nombre_marca')\n",
    "\n",
    "lista_marcas = [marca.upper() for marca in marcas_guardadas]\n",
    "\n",
    "df['marca_modelo'] = df['marca_modelo'].fillna('').str.replace(\"Detalles \", \"\").str.strip().str.upper()\n",
    "\n",
    "df['marca'] = df['marca_modelo'].apply(lambda x: next((marca for marca in lista_marcas if re.match(rf'^\\b{re.escape(marca)}\\b', x)), np.nan))\n",
    "df['modelo'] = df.apply(lambda x: re.sub(r'\\s*\\(.*?\\)', '', x['marca_modelo'].replace(x['marca'], \"\").strip()).strip() if pd.notnull(x['marca']) else x['marca_modelo'], axis=1)"
   ]
  },
  {
   "cell_type": "code",
   "execution_count": 364,
   "id": "139ce136-fa66-4299-9c30-0d5ad0656ccf",
   "metadata": {
    "tags": []
   },
   "outputs": [],
   "source": [
    "df = df.drop(columns=['marca_modelo', 'CO2', 'cilindros', 'sobrealimentacion', 'carroceria'])"
   ]
  },
  {
   "cell_type": "code",
   "execution_count": 370,
   "id": "357cdcb9-37a8-48e6-be15-0e671b94d495",
   "metadata": {
    "tags": []
   },
   "outputs": [],
   "source": [
    "df.rename(columns={'distintivo_ambiental': 'id_distintivo_ambiental'\n",
    "                  , 'marca': 'id_marca'\n",
    "                  , 'modelo': 'id_modelo'\n",
    "                  , 'nombre_vendedor': 'id_concesionario'\n",
    "                  , 'provincia': 'id_provincia'\n",
    "                  , 'traccion': 'id_traccion'}, inplace=True)"
   ]
  },
  {
   "cell_type": "code",
   "execution_count": 372,
   "id": "80abd3bb-1bb3-4a41-aa8a-cd107b671b25",
   "metadata": {
    "tags": []
   },
   "outputs": [],
   "source": [
    "df['combustible'] = (\n",
    "    df['combustible']\n",
    "    .str.replace('-', 'no disponible')\n",
    "    .str.replace('Diésel', 'Diesel')\n",
    "    .str.replace('Gasolina y corriente eléctrica', 'Híbrido Enchufable', regex=False)\n",
    "    .str.replace('Diesel y corriente eléctrica', 'Híbrido Enchufable', regex=False)\n",
    "    .str.replace('Corriente eléctrica', 'Eléctrico', regex=False)\n",
    "    .str.replace(r'\\bHíbrido\\b(?!.*Enchufable)', 'Híbrido Enchufable', regex=True)\n",
    ")"
   ]
  },
  {
   "cell_type": "code",
   "execution_count": 373,
   "id": "a1999c77-17b7-4105-91c5-be7369d03141",
   "metadata": {
    "tags": []
   },
   "outputs": [],
   "source": [
    "df['id_concesionario'] = df['id_concesionario'].apply(lambda x: x.split('-')[0])\n",
    "df['id_concesionario'] = df['id_concesionario'].apply(lambda x: x.split(',')[0])"
   ]
  },
  {
   "cell_type": "code",
   "execution_count": 374,
   "id": "ec522df4-c192-4185-8761-984137fadc6e",
   "metadata": {
    "tags": []
   },
   "outputs": [],
   "source": [
    "for columna in df.columns:\n",
    "    df[columna] = df[columna].replace([\"no disponible\", \"<NA>\", \"-\", \"0\", 0, np.nan], None)"
   ]
  },
  {
   "cell_type": "code",
   "execution_count": 375,
   "id": "4768c2bb-ec6e-4a1c-9463-dacd4e0961e1",
   "metadata": {
    "tags": []
   },
   "outputs": [],
   "source": [
    "df = df[df['precio_contado'].notna()]"
   ]
  },
  {
   "cell_type": "code",
   "execution_count": 376,
   "id": "a3316c92-31b9-4518-bf33-926bd7f92989",
   "metadata": {
    "tags": []
   },
   "outputs": [],
   "source": [
    "df = df[df['id_marca'].notna()]"
   ]
  },
  {
   "cell_type": "code",
   "execution_count": 377,
   "id": "5aa331b8-2566-43b5-baea-ae73c27d7c98",
   "metadata": {
    "tags": []
   },
   "outputs": [
    {
     "data": {
      "text/html": [
       "<div>\n",
       "<style scoped>\n",
       "    .dataframe tbody tr th:only-of-type {\n",
       "        vertical-align: middle;\n",
       "    }\n",
       "\n",
       "    .dataframe tbody tr th {\n",
       "        vertical-align: top;\n",
       "    }\n",
       "\n",
       "    .dataframe thead th {\n",
       "        text-align: right;\n",
       "    }\n",
       "</style>\n",
       "<table border=\"1\" class=\"dataframe\">\n",
       "  <thead>\n",
       "    <tr style=\"text-align: right;\">\n",
       "      <th></th>\n",
       "      <th>id_provincia</th>\n",
       "      <th>link_coche</th>\n",
       "      <th>fecha_extraccion</th>\n",
       "      <th>kilometraje</th>\n",
       "      <th>id_concesionario</th>\n",
       "      <th>id_distintivo_ambiental</th>\n",
       "      <th>garantia</th>\n",
       "      <th>precio_contado</th>\n",
       "      <th>precio_nuevo</th>\n",
       "      <th>largo</th>\n",
       "      <th>ancho</th>\n",
       "      <th>alto</th>\n",
       "      <th>capacidad_maletero</th>\n",
       "      <th>num_plazas</th>\n",
       "      <th>batalla</th>\n",
       "      <th>peso</th>\n",
       "      <th>num_puertas</th>\n",
       "      <th>consumo_medio</th>\n",
       "      <th>consumo_carretera</th>\n",
       "      <th>consumo_urbano</th>\n",
       "      <th>deposito</th>\n",
       "      <th>combustible</th>\n",
       "      <th>cilindrada</th>\n",
       "      <th>tipo_cambio</th>\n",
       "      <th>id_traccion</th>\n",
       "      <th>num_marchas</th>\n",
       "      <th>potencia_kw</th>\n",
       "      <th>potencia_cv</th>\n",
       "      <th>par</th>\n",
       "      <th>velocidad_max</th>\n",
       "      <th>aceleracion</th>\n",
       "      <th>mes_matriculacion</th>\n",
       "      <th>ano_matriculacion</th>\n",
       "      <th>co2</th>\n",
       "      <th>num_cilindros</th>\n",
       "      <th>id_sobrealimentacion</th>\n",
       "      <th>id_marca</th>\n",
       "      <th>id_modelo</th>\n",
       "    </tr>\n",
       "  </thead>\n",
       "  <tbody>\n",
       "    <tr>\n",
       "      <th>799</th>\n",
       "      <td>Vizcaya</td>\n",
       "      <td>https://www.autocasion.com/coches-segunda-mano...</td>\n",
       "      <td>11/12/2024</td>\n",
       "      <td>58300</td>\n",
       "      <td>FLEXICAR VIZCAYA</td>\n",
       "      <td>C</td>\n",
       "      <td>12.0</td>\n",
       "      <td>23990.0</td>\n",
       "      <td>40117.0</td>\n",
       "      <td>4360.0</td>\n",
       "      <td>1824.0</td>\n",
       "      <td>1526.0</td>\n",
       "      <td>470.0</td>\n",
       "      <td>5</td>\n",
       "      <td>2670</td>\n",
       "      <td>2005</td>\n",
       "      <td>5</td>\n",
       "      <td>5.4</td>\n",
       "      <td>4.6</td>\n",
       "      <td>6.8</td>\n",
       "      <td>51.0</td>\n",
       "      <td>Gasolina</td>\n",
       "      <td>1499</td>\n",
       "      <td>Automático</td>\n",
       "      <td>delantera</td>\n",
       "      <td>7</td>\n",
       "      <td>103</td>\n",
       "      <td>140</td>\n",
       "      <td>220</td>\n",
       "      <td>205</td>\n",
       "      <td>9.6</td>\n",
       "      <td>7</td>\n",
       "      <td>2020</td>\n",
       "      <td>122.0</td>\n",
       "      <td>3</td>\n",
       "      <td>Turbo</td>\n",
       "      <td>BMW</td>\n",
       "      <td>X2</td>\n",
       "    </tr>\n",
       "    <tr>\n",
       "      <th>1953</th>\n",
       "      <td>Orense</td>\n",
       "      <td>https://www.autocasion.com/coches-segunda-mano...</td>\n",
       "      <td>12/12/2024</td>\n",
       "      <td>106052</td>\n",
       "      <td>FLEXICAR OURENSE</td>\n",
       "      <td>C</td>\n",
       "      <td>12.0</td>\n",
       "      <td>9890.0</td>\n",
       "      <td>None</td>\n",
       "      <td>None</td>\n",
       "      <td>None</td>\n",
       "      <td>None</td>\n",
       "      <td>None</td>\n",
       "      <td>None</td>\n",
       "      <td>None</td>\n",
       "      <td>None</td>\n",
       "      <td>5</td>\n",
       "      <td>4.7</td>\n",
       "      <td>4.0</td>\n",
       "      <td>6.0</td>\n",
       "      <td>None</td>\n",
       "      <td>Gasolina</td>\n",
       "      <td>1200</td>\n",
       "      <td>Manual</td>\n",
       "      <td>None</td>\n",
       "      <td>None</td>\n",
       "      <td>None</td>\n",
       "      <td>90</td>\n",
       "      <td>None</td>\n",
       "      <td>None</td>\n",
       "      <td>None</td>\n",
       "      <td>10</td>\n",
       "      <td>2016</td>\n",
       "      <td>None</td>\n",
       "      <td>None</td>\n",
       "      <td>None</td>\n",
       "      <td>SKODA</td>\n",
       "      <td>RAPID</td>\n",
       "    </tr>\n",
       "    <tr>\n",
       "      <th>154</th>\n",
       "      <td>Valencia</td>\n",
       "      <td>https://www.autocasion.com/coches-segunda-mano...</td>\n",
       "      <td>11/12/2024</td>\n",
       "      <td>57000</td>\n",
       "      <td>J.CASAÑ</td>\n",
       "      <td>C</td>\n",
       "      <td>12.0</td>\n",
       "      <td>18900.0</td>\n",
       "      <td>26619.0</td>\n",
       "      <td>4029.0</td>\n",
       "      <td>1740.0</td>\n",
       "      <td>1433.0</td>\n",
       "      <td>335.0</td>\n",
       "      <td>5</td>\n",
       "      <td>2563</td>\n",
       "      <td>1630</td>\n",
       "      <td>5</td>\n",
       "      <td>None</td>\n",
       "      <td>None</td>\n",
       "      <td>None</td>\n",
       "      <td>40.0</td>\n",
       "      <td>Gasolina</td>\n",
       "      <td>None</td>\n",
       "      <td>Manual</td>\n",
       "      <td>delantera</td>\n",
       "      <td>5</td>\n",
       "      <td>70</td>\n",
       "      <td>95</td>\n",
       "      <td>175</td>\n",
       "      <td>191</td>\n",
       "      <td>10.8</td>\n",
       "      <td>6</td>\n",
       "      <td>2020</td>\n",
       "      <td>None</td>\n",
       "      <td>3</td>\n",
       "      <td>Turbo</td>\n",
       "      <td>AUDI</td>\n",
       "      <td>A1</td>\n",
       "    </tr>\n",
       "    <tr>\n",
       "      <th>2142</th>\n",
       "      <td>Asturias</td>\n",
       "      <td>https://www.autocasion.com/coches-km0/km-0/mg-...</td>\n",
       "      <td>12/12/2024</td>\n",
       "      <td>3720</td>\n",
       "      <td>BLENDIO Ocasión Asturias</td>\n",
       "      <td>C</td>\n",
       "      <td>12.0</td>\n",
       "      <td>26900.0</td>\n",
       "      <td>30240.0</td>\n",
       "      <td>4610.0</td>\n",
       "      <td>1876.0</td>\n",
       "      <td>1685.0</td>\n",
       "      <td>448.0</td>\n",
       "      <td>5</td>\n",
       "      <td>2720</td>\n",
       "      <td>None</td>\n",
       "      <td>5</td>\n",
       "      <td>None</td>\n",
       "      <td>None</td>\n",
       "      <td>None</td>\n",
       "      <td>55.0</td>\n",
       "      <td>Gasolina</td>\n",
       "      <td>1490</td>\n",
       "      <td>Manual</td>\n",
       "      <td>delantera</td>\n",
       "      <td>6</td>\n",
       "      <td>119</td>\n",
       "      <td>162</td>\n",
       "      <td>250</td>\n",
       "      <td>190</td>\n",
       "      <td>9.9</td>\n",
       "      <td>3</td>\n",
       "      <td>2024</td>\n",
       "      <td>None</td>\n",
       "      <td>4</td>\n",
       "      <td>Turbo</td>\n",
       "      <td>MG</td>\n",
       "      <td>HS</td>\n",
       "    </tr>\n",
       "    <tr>\n",
       "      <th>4863</th>\n",
       "      <td>Madrid</td>\n",
       "      <td>https://www.autocasion.com/coches-segunda-mano...</td>\n",
       "      <td>12/12/2024</td>\n",
       "      <td>98306</td>\n",
       "      <td>FLEXICAR MADRID SUR</td>\n",
       "      <td>C</td>\n",
       "      <td>12.0</td>\n",
       "      <td>10690.0</td>\n",
       "      <td>24350.0</td>\n",
       "      <td>4329.0</td>\n",
       "      <td>1789.0</td>\n",
       "      <td>1489.0</td>\n",
       "      <td>380.0</td>\n",
       "      <td>5</td>\n",
       "      <td>2608</td>\n",
       "      <td>1860</td>\n",
       "      <td>5</td>\n",
       "      <td>3.8</td>\n",
       "      <td>3.5</td>\n",
       "      <td>4.4</td>\n",
       "      <td>60.0</td>\n",
       "      <td>Diesel</td>\n",
       "      <td>1560</td>\n",
       "      <td>Manual</td>\n",
       "      <td>delantera</td>\n",
       "      <td>6</td>\n",
       "      <td>88</td>\n",
       "      <td>120</td>\n",
       "      <td>300</td>\n",
       "      <td>191</td>\n",
       "      <td>11.0</td>\n",
       "      <td>1</td>\n",
       "      <td>2017</td>\n",
       "      <td>100.0</td>\n",
       "      <td>4</td>\n",
       "      <td>Turbo de geometría variable</td>\n",
       "      <td>CITROEN</td>\n",
       "      <td>C4</td>\n",
       "    </tr>\n",
       "  </tbody>\n",
       "</table>\n",
       "</div>"
      ],
      "text/plain": [
       "     id_provincia                                         link_coche  \\\n",
       "799       Vizcaya  https://www.autocasion.com/coches-segunda-mano...   \n",
       "1953       Orense  https://www.autocasion.com/coches-segunda-mano...   \n",
       "154      Valencia  https://www.autocasion.com/coches-segunda-mano...   \n",
       "2142     Asturias  https://www.autocasion.com/coches-km0/km-0/mg-...   \n",
       "4863       Madrid  https://www.autocasion.com/coches-segunda-mano...   \n",
       "\n",
       "     fecha_extraccion kilometraje          id_concesionario  \\\n",
       "799        11/12/2024       58300          FLEXICAR VIZCAYA   \n",
       "1953       12/12/2024      106052          FLEXICAR OURENSE   \n",
       "154        11/12/2024       57000                   J.CASAÑ   \n",
       "2142       12/12/2024        3720  BLENDIO Ocasión Asturias   \n",
       "4863       12/12/2024       98306       FLEXICAR MADRID SUR   \n",
       "\n",
       "     id_distintivo_ambiental garantia precio_contado precio_nuevo   largo  \\\n",
       "799                        C     12.0        23990.0      40117.0  4360.0   \n",
       "1953                       C     12.0         9890.0         None    None   \n",
       "154                        C     12.0        18900.0      26619.0  4029.0   \n",
       "2142                       C     12.0        26900.0      30240.0  4610.0   \n",
       "4863                       C     12.0        10690.0      24350.0  4329.0   \n",
       "\n",
       "       ancho    alto capacidad_maletero num_plazas batalla  peso num_puertas  \\\n",
       "799   1824.0  1526.0              470.0          5    2670  2005           5   \n",
       "1953    None    None               None       None    None  None           5   \n",
       "154   1740.0  1433.0              335.0          5    2563  1630           5   \n",
       "2142  1876.0  1685.0              448.0          5    2720  None           5   \n",
       "4863  1789.0  1489.0              380.0          5    2608  1860           5   \n",
       "\n",
       "     consumo_medio consumo_carretera consumo_urbano deposito combustible  \\\n",
       "799            5.4               4.6            6.8     51.0    Gasolina   \n",
       "1953           4.7               4.0            6.0     None    Gasolina   \n",
       "154           None              None           None     40.0    Gasolina   \n",
       "2142          None              None           None     55.0    Gasolina   \n",
       "4863           3.8               3.5            4.4     60.0      Diesel   \n",
       "\n",
       "     cilindrada tipo_cambio id_traccion num_marchas potencia_kw potencia_cv  \\\n",
       "799        1499  Automático   delantera           7         103         140   \n",
       "1953       1200      Manual        None        None        None          90   \n",
       "154        None      Manual   delantera           5          70          95   \n",
       "2142       1490      Manual   delantera           6         119         162   \n",
       "4863       1560      Manual   delantera           6          88         120   \n",
       "\n",
       "       par velocidad_max aceleracion  mes_matriculacion  ano_matriculacion  \\\n",
       "799    220           205         9.6                  7               2020   \n",
       "1953  None          None        None                 10               2016   \n",
       "154    175           191        10.8                  6               2020   \n",
       "2142   250           190         9.9                  3               2024   \n",
       "4863   300           191        11.0                  1               2017   \n",
       "\n",
       "        co2 num_cilindros         id_sobrealimentacion id_marca id_modelo  \n",
       "799   122.0             3                        Turbo      BMW        X2  \n",
       "1953   None          None                         None    SKODA     RAPID  \n",
       "154    None             3                        Turbo     AUDI        A1  \n",
       "2142   None             4                        Turbo       MG        HS  \n",
       "4863  100.0             4  Turbo de geometría variable  CITROEN        C4  "
      ]
     },
     "execution_count": 377,
     "metadata": {},
     "output_type": "execute_result"
    }
   ],
   "source": [
    "df.sample(5)"
   ]
  },
  {
   "cell_type": "markdown",
   "id": "54e16d5f-24bc-4a95-88a2-3f48aa946889",
   "metadata": {
    "tags": []
   },
   "source": [
    "## Actualizar tablas de dimension"
   ]
  },
  {
   "cell_type": "markdown",
   "id": "15f5ea4c-6b6e-429a-961b-4b3fe11a2c41",
   "metadata": {
    "jp-MarkdownHeadingCollapsed": true,
    "tags": []
   },
   "source": [
    "### Tabla provincias"
   ]
  },
  {
   "cell_type": "code",
   "execution_count": 380,
   "id": "61d1546f-b951-4d96-b016-cd0593056f00",
   "metadata": {
    "tags": []
   },
   "outputs": [
    {
     "name": "stdout",
     "output_type": "stream",
     "text": [
      "Datos de provincias extraidos correctamente\n"
     ]
    }
   ],
   "source": [
    "tabla_provincias = extraer_datos('provincias', columna = '*')\n",
    "provincias_guardadas = set(tabla_provincias['nombre_provincia'])"
   ]
  },
  {
   "cell_type": "code",
   "execution_count": 381,
   "id": "90c75cb3-2dbb-4169-9025-1c570076d518",
   "metadata": {
    "tags": []
   },
   "outputs": [],
   "source": [
    "comunidades_dict = {\n",
    "    \"Andalucía\": [\"Almería\", \"Cádiz\", \"Córdoba\", \"Granada\", \"Huelva\", \"Jaén\", \"Málaga\", \"Sevilla\"],\n",
    "    \"Aragón\": [\"Huesca\", \"Teruel\", \"Zaragoza\"],\n",
    "    \"Asturias\": [\"Asturias\"],\n",
    "    \"Islas Baleares\": [\"Islas Baleares\"],\n",
    "    \"Canarias\": [\"Las Palmas\", \"Tenerife\"],\n",
    "    \"Cantabria\": [\"Cantabria\"],\n",
    "    \"Castilla-La Mancha\": [\"Albacete\", \"Ciudad Real\", \"Cuenca\", \"Guadalajara\", \"Toledo\"],\n",
    "    \"Castilla y León\": [\"Ávila\", \"Burgos\", \"León\", \"Palencia\", \"Salamanca\", \"Segovia\", \"Soria\", \"Valladolid\", \"Zamora\"],\n",
    "    \"Cataluña\": [\"Barcelona\", \"Girona\", \"Lleida\", \"Tarragona\"],\n",
    "    \"Extremadura\": [\"Badajoz\", \"Cáceres\"],\n",
    "    \"Galicia\": [\"La Coruña\", \"Lugo\", \"Orense\", \"Pontevedra\"],\n",
    "    \"Madrid\": [\"Madrid\"],\n",
    "    \"Murcia\": [\"Murcia\"],\n",
    "    \"Navarra\": [\"Navarra\"],\n",
    "    \"La Rioja\": [\"La Rioja\"],\n",
    "    \"País Vasco\": [\"Álava\", \"Guipúzcoa\", \"Vizcaya\"],\n",
    "    \"Valencia\": [\"Alicante\", \"Castellón\", \"Valencia\"],\n",
    "    \"Ceuta\": [\"Ceuta\"],\n",
    "    \"Melilla\": [\"Melilla\"]\n",
    "}"
   ]
  },
  {
   "cell_type": "code",
   "execution_count": 382,
   "id": "44a15979-cc8f-420b-8f5c-5f3e0543961f",
   "metadata": {
    "tags": []
   },
   "outputs": [],
   "source": [
    "provincias_to_comunidades = {\n",
    "    provincia: comunidad\n",
    "    for comunidad, provincias in comunidades_dict.items()\n",
    "    for provincia in provincias\n",
    "}"
   ]
  },
  {
   "cell_type": "code",
   "execution_count": 383,
   "id": "7d1b6a45-ce87-4b30-8487-21d1790f8902",
   "metadata": {
    "tags": []
   },
   "outputs": [],
   "source": [
    "nuevas_provincias = {}\n",
    "index = tabla_provincias['id_provincia'].max() + 1 if not tabla_provincias.empty else 1\n",
    "\n",
    "for provincia in df['id_provincia'].unique():\n",
    "    if pd.notnull(provincia) and provincia not in provincias_guardadas: \n",
    "        nuevas_provincias[index] = provincia\n",
    "        index += 1\n",
    "\n",
    "df_nuevas_provincias = pd.DataFrame.from_dict(nuevas_provincias, orient='index', columns=['nombre_provincia']).reset_index()\n",
    "df_nuevas_provincias.rename(columns={'index': 'id_provincia'}, inplace=True)\n",
    "df_nuevas_provincias['comunidad_autonoma'] = df_nuevas_provincias['nombre_provincia'].map(provincias_to_comunidades)\n",
    "df_provincias_actualizado = pd.concat([tabla_provincias, df_nuevas_provincias], ignore_index=True)\n",
    "\n",
    "conversion = dict(zip(df_provincias_actualizado['nombre_provincia'], df_provincias_actualizado['id_provincia']))\n",
    "df['id_provincia'] = df['id_provincia'].map(conversion)"
   ]
  },
  {
   "cell_type": "code",
   "execution_count": 384,
   "id": "4476a7d6-2ac1-45a8-8170-21c3ce4420d8",
   "metadata": {
    "tags": []
   },
   "outputs": [
    {
     "name": "stdout",
     "output_type": "stream",
     "text": [
      "Datos insertados en provincias correctamente.\n",
      "2 provincias nuevas insertadas en la base de datos.\n"
     ]
    }
   ],
   "source": [
    "if not df_nuevas_provincias.empty:\n",
    "    \n",
    "    insertar_datos_en_lotes(df_nuevas_provincias, 'provincias', lote=100)\n",
    "    \n",
    "    print(f\"{len(df_nuevas_provincias)} provincias nuevas insertadas en la base de datos.\")\n",
    "else:\n",
    "    print(\"No hay nuevas provincias para insertar.\")"
   ]
  },
  {
   "cell_type": "markdown",
   "id": "994dcb02-7196-401b-980f-cc3173dd2ecf",
   "metadata": {
    "jp-MarkdownHeadingCollapsed": true,
    "tags": []
   },
   "source": [
    "### Tabla concesionarios"
   ]
  },
  {
   "cell_type": "code",
   "execution_count": 390,
   "id": "1f6638d5-084e-4dec-8d2f-188b8c597a47",
   "metadata": {
    "tags": []
   },
   "outputs": [
    {
     "name": "stdout",
     "output_type": "stream",
     "text": [
      "Datos de concesionarios extraidos correctamente\n"
     ]
    }
   ],
   "source": [
    "tabla_concesionarios = extraer_datos('concesionarios', columna = '*')\n",
    "concesionarios_guardados = set(tabla_concesionarios['nombre_concesionario'])"
   ]
  },
  {
   "cell_type": "code",
   "execution_count": 391,
   "id": "cb904d83-c9ae-4a8f-b57f-48fbc03f7dca",
   "metadata": {
    "tags": []
   },
   "outputs": [],
   "source": [
    "nuevos_concesionarios = {}\n",
    "index = tabla_concesionarios['id_concesionario'].max() + 1 if not tabla_concesionarios.empty else 1\n",
    "\n",
    "for concesionario in df['id_concesionario'].unique():\n",
    "    if pd.notnull(concesionario) and concesionario not in concesionarios_guardados: \n",
    "        nuevos_concesionarios[index] = concesionario\n",
    "        index += 1\n",
    "\n",
    "df_nuevos_concesionarios = pd.DataFrame.from_dict(nuevos_concesionarios, orient='index', columns=['nombre_concesionario']).reset_index()\n",
    "df_nuevos_concesionarios.rename(columns={'index': 'id_concesionario'}, inplace=True)\n",
    "\n",
    "df_concesionarios_actualizado = pd.concat([tabla_concesionarios, df_nuevos_concesionarios], ignore_index=True)\n",
    "\n",
    "conversion = dict(zip(df_concesionarios_actualizado['nombre_concesionario'], df_concesionarios_actualizado['id_concesionario']))\n",
    "df['id_concesionario'] = df['id_concesionario'].map(conversion)"
   ]
  },
  {
   "cell_type": "code",
   "execution_count": 392,
   "id": "009507bd-414a-4fc2-b0f8-c344dd43d487",
   "metadata": {
    "tags": []
   },
   "outputs": [
    {
     "name": "stdout",
     "output_type": "stream",
     "text": [
      "Datos insertados en concesionarios correctamente.\n",
      "289 concesionarios nuevos insertados en la base de datos.\n"
     ]
    }
   ],
   "source": [
    "if not df_nuevos_concesionarios.empty:\n",
    "    \n",
    "    insertar_datos_en_lotes(df_nuevos_concesionarios, 'concesionarios', lote=100)\n",
    "    \n",
    "    print(f\"{len(df_nuevos_concesionarios)} concesionarios nuevos insertados en la base de datos.\")\n",
    "else:\n",
    "    print(\"No hay nuevos concesionarios para insertar.\")"
   ]
  },
  {
   "cell_type": "markdown",
   "id": "8d9a73f7-69ef-4973-84f2-4ae26d59f00d",
   "metadata": {
    "jp-MarkdownHeadingCollapsed": true,
    "tags": []
   },
   "source": [
    "### Tabla modelos"
   ]
  },
  {
   "cell_type": "code",
   "execution_count": 393,
   "id": "f24204b6-b3c0-4bb2-87e7-4ea22500aa68",
   "metadata": {
    "tags": []
   },
   "outputs": [
    {
     "name": "stdout",
     "output_type": "stream",
     "text": [
      "Datos de modelos extraidos correctamente\n"
     ]
    }
   ],
   "source": [
    "tabla_modelos = extraer_datos('modelos', columna = '*')\n",
    "modelos_guardados = set(tabla_modelos['nombre_modelo'])"
   ]
  },
  {
   "cell_type": "code",
   "execution_count": 394,
   "id": "f9361aef-d6bd-4fdd-8e04-54307c060727",
   "metadata": {
    "tags": []
   },
   "outputs": [],
   "source": [
    "nuevos_modelos = {}\n",
    "index = tabla_modelos['id_modelo'].max() + 1 if not tabla_modelos.empty else 1\n",
    "\n",
    "for modelo in df['id_modelo'].unique():\n",
    "    if pd.notnull(modelo) and modelo not in modelos_guardados: \n",
    "        nuevos_modelos[index] = modelo\n",
    "        index += 1\n",
    "\n",
    "df_nuevos_modelos = pd.DataFrame.from_dict(nuevos_modelos, orient='index', columns=['nombre_modelo']).reset_index()\n",
    "df_nuevos_modelos.rename(columns={'index': 'id_modelo'}, inplace=True)\n",
    "\n",
    "df_modelos_actualizado = pd.concat([tabla_modelos, df_nuevos_modelos], ignore_index=True)\n",
    "\n",
    "conversion = dict(zip(df_modelos_actualizado['nombre_modelo'], df_modelos_actualizado['id_modelo']))\n",
    "df['id_modelo'] = df['id_modelo'].map(conversion)"
   ]
  },
  {
   "cell_type": "code",
   "execution_count": 396,
   "id": "9436d49b-67ef-4e2a-ab42-790b787fd5dc",
   "metadata": {
    "tags": []
   },
   "outputs": [
    {
     "name": "stdout",
     "output_type": "stream",
     "text": [
      "Datos insertados en modelos correctamente.\n",
      "57 modelos nuevos insertados en la base de datos.\n"
     ]
    }
   ],
   "source": [
    "if not df_nuevos_modelos.empty:\n",
    "    \n",
    "    insertar_datos_en_lotes(df_nuevos_modelos, 'modelos', lote=100)\n",
    "    \n",
    "    print(f\"{len(df_nuevos_modelos)} modelos nuevos insertados en la base de datos.\")\n",
    "else:\n",
    "    print(\"No hay nuevos modelos para insertar.\")"
   ]
  },
  {
   "cell_type": "markdown",
   "id": "f2b1f266-28ee-4a53-89b8-772ad66debfc",
   "metadata": {
    "jp-MarkdownHeadingCollapsed": true,
    "tags": []
   },
   "source": [
    "### Tabla distintivos_ambientales"
   ]
  },
  {
   "cell_type": "code",
   "execution_count": 397,
   "id": "78ce70f5-0588-4a13-8588-5e12f5848a5e",
   "metadata": {
    "tags": []
   },
   "outputs": [
    {
     "name": "stdout",
     "output_type": "stream",
     "text": [
      "Datos de distintivos_ambientales extraidos correctamente\n"
     ]
    }
   ],
   "source": [
    "tabla_distintivos = extraer_datos('distintivos_ambientales', columna = '*')\n",
    "distintivos_guardados = set(tabla_distintivos['nombre_distintivo'])"
   ]
  },
  {
   "cell_type": "code",
   "execution_count": 398,
   "id": "e4a46e38-cfc1-4152-a7f3-5c14cb3ad370",
   "metadata": {
    "tags": []
   },
   "outputs": [],
   "source": [
    "nuevos_distintivos = {}\n",
    "index = tabla_distintivos['id_distintivo'].max() + 1 if not tabla_distintivos.empty else 1\n",
    "\n",
    "for distintivo in df['id_distintivo_ambiental'].unique():\n",
    "    if pd.notnull(distintivo) and distintivo not in distintivos_guardados: \n",
    "        nuevos_distintivos[index] = distintivo\n",
    "        index += 1\n",
    "\n",
    "df_nuevos_distintivos = pd.DataFrame.from_dict(nuevos_distintivos, orient='index', columns=['nombre_distintivo']).reset_index()\n",
    "df_nuevos_distintivos.rename(columns={'index': 'id_distintivo'}, inplace=True)\n",
    "\n",
    "df_distintivos_actualizado = pd.concat([tabla_distintivos, df_nuevos_distintivos], ignore_index=True)\n",
    "\n",
    "conversion = dict(zip(df_distintivos_actualizado['nombre_distintivo'], df_distintivos_actualizado['id_distintivo']))\n",
    "df['id_distintivo_ambiental'] = df['id_distintivo_ambiental'].map(conversion)"
   ]
  },
  {
   "cell_type": "code",
   "execution_count": 399,
   "id": "79867aca-4104-4eda-9fb6-7a521e3acf42",
   "metadata": {
    "tags": []
   },
   "outputs": [
    {
     "name": "stdout",
     "output_type": "stream",
     "text": [
      "No hay nuevos distintivos ambientales para insertar.\n"
     ]
    }
   ],
   "source": [
    "if not df_nuevos_distintivos.empty:\n",
    "    \n",
    "    insertar_datos_en_lotes(df_nuevos_distintivos, 'distintivos_ambientales', lote=100)\n",
    "    \n",
    "    print(f\"{len(df_nuevos_distintivos)} distintivos ambientales nuevos insertados en la base de datos.\")\n",
    "else:\n",
    "    print(\"No hay nuevos distintivos ambientales para insertar.\")"
   ]
  },
  {
   "cell_type": "markdown",
   "id": "76e71dfe-0b45-4f65-b555-628d43612ede",
   "metadata": {
    "jp-MarkdownHeadingCollapsed": true,
    "tags": []
   },
   "source": [
    "### Tabla combustibles"
   ]
  },
  {
   "cell_type": "code",
   "execution_count": 400,
   "id": "74b0bc63-17e1-4e04-9e48-f12758cbfc77",
   "metadata": {
    "tags": []
   },
   "outputs": [
    {
     "name": "stdout",
     "output_type": "stream",
     "text": [
      "Datos de combustibles extraidos correctamente\n"
     ]
    }
   ],
   "source": [
    "tabla_combustibles = extraer_datos('combustibles', columna = '*')\n",
    "combustibles_guardados = set(tabla_combustibles['nombre_combustible'])"
   ]
  },
  {
   "cell_type": "code",
   "execution_count": 401,
   "id": "0f0379dc-b5ea-47ae-b2d2-3f58296808cd",
   "metadata": {
    "tags": []
   },
   "outputs": [],
   "source": [
    "nuevos_combustibles = {}\n",
    "index = tabla_combustibles['id_combustible'].max() + 1 if not tabla_combustibles.empty else 1\n",
    "\n",
    "for combustible in df['combustible'].unique():\n",
    "    if pd.notnull(combustible) and combustible not in combustibles_guardados: \n",
    "        nuevos_combustibles[index] = combustible\n",
    "        index += 1\n",
    "\n",
    "df_nuevos_combustibles = pd.DataFrame.from_dict(nuevos_combustibles, orient='index', columns=['nombre_combustible']).reset_index()\n",
    "df_nuevos_combustibles.rename(columns={'index': 'id_combustible'}, inplace=True)\n",
    "\n",
    "df_combustibles_actualizado = pd.concat([tabla_combustibles, df_nuevos_combustibles], ignore_index=True)\n",
    "\n",
    "conversion = dict(zip(df_combustibles_actualizado['nombre_combustible'], df_combustibles_actualizado['id_combustible']))\n",
    "df['id_combustible'] = df['combustible'].map(conversion)\n",
    "df = df.drop(columns=['combustible'])"
   ]
  },
  {
   "cell_type": "code",
   "execution_count": 402,
   "id": "fa218e03-3ec2-4c1a-b066-95bd10f03c56",
   "metadata": {
    "tags": []
   },
   "outputs": [
    {
     "name": "stdout",
     "output_type": "stream",
     "text": [
      "No hay nuevos combustibles para insertar.\n"
     ]
    }
   ],
   "source": [
    "if not df_nuevos_combustibles.empty:\n",
    "    \n",
    "    insertar_datos_en_lotes(df_nuevos_combustibles, 'combustibles', lote=100)\n",
    "    \n",
    "    print(f\"{len(df_nuevos_combustibles)} combustibles nuevos insertados en la base de datos.\")\n",
    "else:\n",
    "    print(\"No hay nuevos combustibles para insertar.\")"
   ]
  },
  {
   "cell_type": "markdown",
   "id": "f04f8621-272f-4992-b198-ed3d682a8b25",
   "metadata": {
    "jp-MarkdownHeadingCollapsed": true,
    "tags": []
   },
   "source": [
    "### Tabla tipo_cambio"
   ]
  },
  {
   "cell_type": "code",
   "execution_count": 403,
   "id": "23272bd8-57c8-4cbf-a294-0165fcec8722",
   "metadata": {
    "tags": []
   },
   "outputs": [
    {
     "name": "stdout",
     "output_type": "stream",
     "text": [
      "Datos de tipos_cambio extraidos correctamente\n"
     ]
    }
   ],
   "source": [
    "tabla_tipos_cambio = extraer_datos('tipos_cambio', columna = '*')\n",
    "tipos_cambio_guardados = set(tabla_tipos_cambio['nombre_tipo_cambio'])"
   ]
  },
  {
   "cell_type": "code",
   "execution_count": 404,
   "id": "479ca7ef-7310-451d-b83a-ce4c99f5625b",
   "metadata": {
    "tags": []
   },
   "outputs": [],
   "source": [
    "nuevos_tipos_cambio = {}\n",
    "index = tabla_tipos_cambio['id_tipo_cambio'].max() + 1 if not tabla_tipos_cambio.empty else 1\n",
    "\n",
    "for tipo_cambio in df['tipo_cambio'].unique():\n",
    "    if pd.notnull(tipo_cambio) and tipo_cambio not in tipos_cambio_guardados: \n",
    "        nuevos_tipos_cambio[index] = tipo_cambio\n",
    "        index += 1\n",
    "\n",
    "df_nuevos_tipos_cambio = pd.DataFrame.from_dict(nuevos_tipos_cambio, orient='index', columns=['nombre_tipo_cambio']).reset_index()\n",
    "df_nuevos_tipos_cambio.rename(columns={'index': 'id_tipo_cambio'}, inplace=True)\n",
    "\n",
    "df_tipos_cambio_actualizado = pd.concat([tabla_tipos_cambio, df_nuevos_tipos_cambio], ignore_index=True)\n",
    "\n",
    "conversion = dict(zip(df_tipos_cambio_actualizado['nombre_tipo_cambio'], df_tipos_cambio_actualizado['id_tipo_cambio']))\n",
    "df['id_tipo_cambio'] = df['tipo_cambio'].map(conversion)\n",
    "df = df.drop(columns=['tipo_cambio'])"
   ]
  },
  {
   "cell_type": "code",
   "execution_count": 405,
   "id": "827192bc-257d-44db-8d60-681282e44662",
   "metadata": {
    "tags": []
   },
   "outputs": [
    {
     "name": "stdout",
     "output_type": "stream",
     "text": [
      "No hay nuevos tipos_cambio para insertar.\n"
     ]
    }
   ],
   "source": [
    "if not df_nuevos_tipos_cambio.empty:\n",
    "    \n",
    "    insertar_datos_en_lotes(df_nuevos_tipos_cambio, 'tipos_cambio', lote=100)\n",
    "    \n",
    "    print(f\"{len(df_nuevos_tipos_cambio)} tipos_cambio nuevos insertados en la base de datos.\")\n",
    "else:\n",
    "    print(\"No hay nuevos tipos_cambio para insertar.\")"
   ]
  },
  {
   "cell_type": "markdown",
   "id": "24dd79dc-df50-4f4e-8e41-bbf7795cbd70",
   "metadata": {
    "jp-MarkdownHeadingCollapsed": true,
    "tags": []
   },
   "source": [
    "### Tabla sobrealimentaciones"
   ]
  },
  {
   "cell_type": "code",
   "execution_count": 406,
   "id": "4283bd6c-53d5-432a-abe2-dcd8a97e010b",
   "metadata": {
    "tags": []
   },
   "outputs": [
    {
     "name": "stdout",
     "output_type": "stream",
     "text": [
      "Datos de sobrealimentaciones extraidos correctamente\n"
     ]
    }
   ],
   "source": [
    "tabla_sobrealimentaciones = extraer_datos('sobrealimentaciones', columna = '*')\n",
    "sobrealimentaciones_guardadas = set(tabla_sobrealimentaciones['nombre_sobrealimentacion'])"
   ]
  },
  {
   "cell_type": "code",
   "execution_count": 407,
   "id": "12241df7-e5b8-4ce9-8605-876cb3c06e4f",
   "metadata": {
    "tags": []
   },
   "outputs": [],
   "source": [
    "nuevas_sobrealimentaciones = {}\n",
    "index = tabla_sobrealimentaciones['id_sobrealimentacion'].max() + 1 if not tabla_sobrealimentaciones.empty else 1\n",
    "\n",
    "for sobrealimentacion in df['id_sobrealimentacion'].unique():\n",
    "    if pd.notnull(sobrealimentacion) and sobrealimentacion not in sobrealimentaciones_guardadas: \n",
    "        nuevas_sobrealimentaciones[index] = sobrealimentacion\n",
    "        index += 1\n",
    "\n",
    "df_nuevas_sobrealimentaciones = pd.DataFrame.from_dict(nuevas_sobrealimentaciones, orient='index', columns=['nombre_sobrealimentacion']).reset_index()\n",
    "df_nuevas_sobrealimentaciones.rename(columns={'index': 'id_sobrealimentacion'}, inplace=True)\n",
    "\n",
    "df_sobrealimentaciones_actualizado = pd.concat([tabla_sobrealimentaciones, df_nuevas_sobrealimentaciones], ignore_index=True)\n",
    "\n",
    "conversion = dict(zip(df_sobrealimentaciones_actualizado['nombre_sobrealimentacion'], df_sobrealimentaciones_actualizado['id_sobrealimentacion']))\n",
    "df['id_sobrealimentacion'] = df['id_sobrealimentacion'].map(conversion)"
   ]
  },
  {
   "cell_type": "code",
   "execution_count": 408,
   "id": "d20d5099-2c00-4453-9445-0e44a8cee392",
   "metadata": {
    "tags": []
   },
   "outputs": [
    {
     "name": "stdout",
     "output_type": "stream",
     "text": [
      "No hay nuevas sobrealimentaciones para insertar.\n"
     ]
    }
   ],
   "source": [
    "if not df_nuevas_sobrealimentaciones.empty:\n",
    "    \n",
    "    insertar_datos_en_lotes(df_nuevas_sobrealimentaciones, 'sobrealimentaciones', lote=100)\n",
    "    \n",
    "    print(f\"{len(df_nuevas_sobrealimentaciones)} sobrealimentaciones nuevas insertados en la base de datos.\")\n",
    "else:\n",
    "    print(\"No hay nuevas sobrealimentaciones para insertar.\")"
   ]
  },
  {
   "cell_type": "markdown",
   "id": "4dc067cb-a3d3-4ac2-962a-7fcba71e8040",
   "metadata": {
    "jp-MarkdownHeadingCollapsed": true,
    "tags": []
   },
   "source": [
    "### Tabla tipo_traccion"
   ]
  },
  {
   "cell_type": "code",
   "execution_count": 409,
   "id": "60776626-6c9d-4eee-94ef-4137d7abc9ee",
   "metadata": {
    "tags": []
   },
   "outputs": [
    {
     "name": "stdout",
     "output_type": "stream",
     "text": [
      "Datos de tipo_traccion extraidos correctamente\n"
     ]
    }
   ],
   "source": [
    "tabla_tipo_traccion = extraer_datos('tipo_traccion', columna = '*')\n",
    "tipo_traccion_guardados = set(tabla_tipo_traccion['nombre_traccion'])"
   ]
  },
  {
   "cell_type": "code",
   "execution_count": 410,
   "id": "f2359ac0-0e6e-4c77-9e93-a6cb310dcf0c",
   "metadata": {
    "tags": []
   },
   "outputs": [],
   "source": [
    "nuevos_tipo_traccion = {}\n",
    "index = tabla_tipo_traccion['id_traccion'].max() + 1 if not tabla_tipo_traccion.empty else 1\n",
    "\n",
    "for tipo_traccion in df['id_traccion'].unique():\n",
    "    if pd.notnull(tipo_traccion) and tipo_traccion not in tipo_traccion_guardados: \n",
    "        nuevos_tipo_traccion[index] = tipo_traccion\n",
    "        index += 1\n",
    "\n",
    "df_nuevos_tipo_traccion = pd.DataFrame.from_dict(nuevos_tipo_traccion, orient='index', columns=['nombre_traccion']).reset_index()\n",
    "df_nuevos_tipo_traccion.rename(columns={'index': 'id_traccion'}, inplace=True)\n",
    "\n",
    "df_tipo_traccion_actualizado = pd.concat([tabla_tipo_traccion, df_nuevos_tipo_traccion], ignore_index=True)\n",
    "\n",
    "conversion = dict(zip(df_tipo_traccion_actualizado['nombre_traccion'], df_tipo_traccion_actualizado['id_traccion']))\n",
    "df['id_traccion'] = df['id_traccion'].map(conversion)"
   ]
  },
  {
   "cell_type": "code",
   "execution_count": 411,
   "id": "cdbb25c5-8d6b-4dc9-a982-2baa5403c280",
   "metadata": {
    "tags": []
   },
   "outputs": [
    {
     "name": "stdout",
     "output_type": "stream",
     "text": [
      "No hay nuevos tipo_traccion para insertar.\n"
     ]
    }
   ],
   "source": [
    "if not df_nuevos_tipo_traccion.empty:\n",
    "    \n",
    "    insertar_datos_en_lotes(df_nuevos_tipo_traccion, 'tipo_traccion', lote=100)\n",
    "    \n",
    "    print(f\"{len(df_nuevos_tipo_traccion)} tipo_traccion nuevos insertados en la base de datos.\")\n",
    "else:\n",
    "    print(\"No hay nuevos tipo_traccion para insertar.\")"
   ]
  },
  {
   "cell_type": "markdown",
   "id": "8719d60e-e5f3-4969-b6e5-4fb6ff1e4541",
   "metadata": {
    "tags": []
   },
   "source": [
    "## Subir registros prestaciones"
   ]
  },
  {
   "cell_type": "code",
   "execution_count": 412,
   "id": "fe2e20a8-9b36-4c5c-a4c4-e905f594aad7",
   "metadata": {
    "tags": []
   },
   "outputs": [
    {
     "name": "stdout",
     "output_type": "stream",
     "text": [
      "Datos de marcas extraidos correctamente\n"
     ]
    }
   ],
   "source": [
    "# Mapeo para las marcas en la tabla prestaciones\n",
    "\n",
    "tabla_marcas = extraer_datos('marcas', columna = '*')\n",
    "tabla_marcas['nombre_marca'] = tabla_marcas['nombre_marca'].str.upper()\n",
    "conversion = dict(zip(tabla_marcas['nombre_marca'], tabla_marcas['id_marca']))\n",
    "df['id_marca'] = df['id_marca'].map(conversion)"
   ]
  },
  {
   "cell_type": "code",
   "execution_count": 413,
   "id": "2e7a1c04-3397-49f9-b715-55185547786d",
   "metadata": {
    "tags": []
   },
   "outputs": [
    {
     "name": "stdout",
     "output_type": "stream",
     "text": [
      "Datos de links_coches extraidos correctamente\n"
     ]
    }
   ],
   "source": [
    "# Mapeo para los links en la tabla prestaciones\n",
    "\n",
    "tabla_links = extraer_datos('links_coches', columna = 'id_coche, link_anuncio')\n",
    "conversion = dict(zip(tabla_links['link_anuncio'], tabla_links['id_coche']))\n",
    "df['id_coche'] = df['link_coche'].map(conversion)\n",
    "df = df.drop(columns=['link_coche'])"
   ]
  },
  {
   "cell_type": "code",
   "execution_count": 414,
   "id": "943ca15b-f890-408d-9a1e-ea008bee7013",
   "metadata": {
    "tags": []
   },
   "outputs": [],
   "source": [
    "df['fecha_extraccion'] = pd.to_datetime(df['fecha_extraccion'], format='%d/%m/%Y', errors='coerce' )\n",
    "df['fecha_extraccion'] = df['fecha_extraccion'].dt.strftime('%Y-%m-%d %H:%M:%S')"
   ]
  },
  {
   "cell_type": "code",
   "execution_count": 415,
   "id": "63fff358-70e0-4431-9df5-cc160068a804",
   "metadata": {
    "tags": []
   },
   "outputs": [
    {
     "name": "stdout",
     "output_type": "stream",
     "text": [
      "Datos de prestaciones extraidos correctamente\n",
      "Número de coches nuevos: 4331\n"
     ]
    }
   ],
   "source": [
    "# Comprobamos que los coches que vamos a subir no están ya en la tabla\n",
    "df_prestaciones = extraer_datos('prestaciones')\n",
    "df = df[df_prestaciones.columns]\n",
    "\n",
    "coches_completos = pd.concat([df_prestaciones, df], ignore_index = True)\n",
    "\n",
    "columnas_para_duplicados = [col for col in coches_completos.columns if col not in ['fecha_extraccion', 'link_coche', 'id_provincia']]\n",
    "coches_completos = coches_completos.drop_duplicates(subset=columnas_para_duplicados, keep='first')\n",
    "\n",
    "df_datos_nuevos = coches_completos.iloc[len(df_prestaciones):].copy()\n",
    "\n",
    "print(f\"Número de coches nuevos: {len(df_datos_nuevos)}\")"
   ]
  },
  {
   "cell_type": "code",
   "execution_count": 416,
   "id": "96f0c57a-ef53-448b-8c7a-adced25ff21a",
   "metadata": {
    "tags": []
   },
   "outputs": [],
   "source": [
    "#Convertir a nan a none\n",
    "for columna in df_datos_nuevos.columns:\n",
    "    df_datos_nuevos[columna] = df_datos_nuevos[columna].replace([np.nan, pd.NA], None)"
   ]
  },
  {
   "cell_type": "code",
   "execution_count": 448,
   "id": "5b3c2816-83d6-48e4-86d6-70fc3645fc3f",
   "metadata": {
    "tags": []
   },
   "outputs": [
    {
     "name": "stdout",
     "output_type": "stream",
     "text": [
      "Datos insertados en prestaciones correctamente.\n"
     ]
    }
   ],
   "source": [
    "insertar_datos_en_lotes(df_datos_nuevos, 'prestaciones', lote=100)"
   ]
  },
  {
   "cell_type": "code",
   "execution_count": null,
   "id": "e031a9f8-5dc9-46de-bb60-d3173c03fe70",
   "metadata": {},
   "outputs": [],
   "source": []
  }
 ],
 "metadata": {
  "kernelspec": {
   "display_name": "Python 3 (ipykernel)",
   "language": "python",
   "name": "python3"
  },
  "language_info": {
   "codemirror_mode": {
    "name": "ipython",
    "version": 3
   },
   "file_extension": ".py",
   "mimetype": "text/x-python",
   "name": "python",
   "nbconvert_exporter": "python",
   "pygments_lexer": "ipython3",
   "version": "3.11.7"
  }
 },
 "nbformat": 4,
 "nbformat_minor": 5
}

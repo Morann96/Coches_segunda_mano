{
 "cells": [
  {
   "cell_type": "code",
   "execution_count": 9,
   "id": "14fe3573-ae56-4535-b534-241ef141e8ee",
   "metadata": {
    "tags": []
   },
   "outputs": [],
   "source": [
    "import pandas as pd\n",
    "import numpy as np\n",
    "import importlib.metadata\n",
    "import mysql.connector\n",
    "import streamlit as st\n",
    "import os\n",
    "\n",
    "from datetime import datetime"
   ]
  },
  {
   "cell_type": "code",
   "execution_count": 2,
   "id": "d58f7cce-525c-4fda-b9ec-a4f57440b642",
   "metadata": {
    "tags": []
   },
   "outputs": [],
   "source": [
    "# Cargar csv\n",
    "df_combustibles = pd.read_csv(\"../bin/listado_combustibles.csv\")\n",
    "df_concesionarios = pd.read_csv(\"../bin/listado_concesionarios.csv\")\n",
    "df_distintivo_ambiental = pd.read_csv(\"../bin/listado_distintivo_ambiental.csv\")\n",
    "df_marcas = pd.read_csv(\"../bin/listado_marcas.csv\")\n",
    "df_modelos = pd.read_csv(\"../bin/listado_modelos.csv\")\n",
    "df_provincias = pd.read_csv(\"../bin/listado_provincias.csv\")\n",
    "df_sobrealimentacion = pd.read_csv(\"../bin/listado_sobrealimentacion.csv\")\n",
    "df_traccion = pd.read_csv(\"../bin/listado_traccion.csv\")\n",
    "df_cambio = pd.read_csv(\"../bin/listado_tipos_cambio.csv\")\n",
    "df_prestaciones = pd.read_csv(\"../bin/prestaciones.csv\")"
   ]
  },
  {
   "cell_type": "code",
   "execution_count": 3,
   "id": "31640276-1818-4a50-9e5e-65d36ebcd9cb",
   "metadata": {
    "tags": []
   },
   "outputs": [],
   "source": [
    "df_prestaciones['fecha_extraccion'] = pd.to_datetime(df_prestaciones['fecha_extraccion'], format='%d/%m/%Y', errors='coerce' )\n",
    "df_prestaciones['fecha_extraccion'] = df_prestaciones['fecha_extraccion'].dt.strftime('%Y-%m-%d %H:%M:%S')"
   ]
  },
  {
   "cell_type": "code",
   "execution_count": 4,
   "id": "01d351e2-4b61-4f98-91d3-3c4ec153a048",
   "metadata": {
    "scrolled": true,
    "tags": []
   },
   "outputs": [
    {
     "data": {
      "text/plain": [
       "id_provincia                  1\n",
       "fecha_extraccion              0\n",
       "kilometraje                 107\n",
       "id_concesionario              0\n",
       "id_distintivo_ambiental     319\n",
       "garantia                    609\n",
       "precio_contado                0\n",
       "precio_nuevo               1065\n",
       "largo                      1102\n",
       "ancho                      1092\n",
       "alto                       1106\n",
       "capacidad_maletero         1229\n",
       "num_plazas                 1088\n",
       "batalla                    1098\n",
       "peso                        865\n",
       "num_puertas                  34\n",
       "consumo_medio              3152\n",
       "consumo_carretera          3511\n",
       "consumo_urbano             3511\n",
       "deposito                   1526\n",
       "cilindrada                 1760\n",
       "id_traccion                1088\n",
       "num_marchas                 900\n",
       "potencia_kw                1078\n",
       "potencia_cv                  36\n",
       "par                        1199\n",
       "velocidad_max              1223\n",
       "aceleracion                1208\n",
       "mes_matriculacion             0\n",
       "ano_matriculacion             0\n",
       "co2                        3521\n",
       "num_cilindros              1468\n",
       "id_sobrealimentacion       2132\n",
       "id_marca                      2\n",
       "id_modelo                    52\n",
       "id_combustible               35\n",
       "id_tipo_cambio                0\n",
       "id_coche                      0\n",
       "dtype: int64"
      ]
     },
     "execution_count": 4,
     "metadata": {},
     "output_type": "execute_result"
    }
   ],
   "source": [
    "#Comprobar si hay nans\n",
    "df_prestaciones.isna().sum()"
   ]
  },
  {
   "cell_type": "code",
   "execution_count": 5,
   "id": "b1f91560-2469-4753-89c5-dd96291069a0",
   "metadata": {
    "tags": []
   },
   "outputs": [],
   "source": [
    "#Convertir a nan a none\n",
    "for columna in df_prestaciones.columns:\n",
    "    df_prestaciones[columna] = df_prestaciones[columna].replace([np.nan, pd.NA], None)"
   ]
  },
  {
   "cell_type": "code",
   "execution_count": 6,
   "id": "e4090a3a-26cf-4d56-bcf0-4fc9e7135745",
   "metadata": {
    "tags": []
   },
   "outputs": [],
   "source": [
    "directorio_pkl = \"../bin/imagenes_coches/\"\n",
    "os.makedirs(directorio_pkl, exist_ok=True)\n",
    "\n",
    "archivos_pkl = sorted([f for f in os.listdir(directorio_pkl) if f.endswith(\".pkl\")])\n",
    "dfs = [pd.read_pickle(os.path.join(directorio_pkl, archivo)) for archivo in archivos_pkl]\n",
    "\n",
    "df_concatenado = pd.concat(dfs, ignore_index=True) if dfs else pd.DataFrame(columns=[\"link_anuncio\", \"foto_binaria\"])\n",
    "\n",
    "df_concatenado = df_concatenado.reset_index(drop=True).reset_index()\n",
    "df_concatenado = df_concatenado.rename(columns={\"index\": \"id_coche\"})\n",
    "df_concatenado[\"id_coche\"] += 1"
   ]
  },
  {
   "cell_type": "code",
   "execution_count": 7,
   "id": "2af8b72c-65ff-4543-bb2d-e4e68db10696",
   "metadata": {
    "tags": []
   },
   "outputs": [],
   "source": [
    "# Conectar a la base de datos usando los valores almacenados en `secrets.toml`\n",
    "def conectar_base_datos():\n",
    "    conn = mysql.connector.connect(\n",
    "        host=st.secrets[\"database\"][\"host\"],\n",
    "        user=st.secrets[\"database\"][\"user\"],\n",
    "        password=st.secrets[\"database\"][\"password\"],\n",
    "        database=st.secrets[\"database\"][\"database\"]\n",
    "    )\n",
    "    return conn"
   ]
  },
  {
   "cell_type": "code",
   "execution_count": 8,
   "id": "d8423e73-e15b-4055-9b65-d6f52fa7d864",
   "metadata": {
    "tags": []
   },
   "outputs": [],
   "source": [
    "contraseña_miguel = \"password\"\n",
    "contraseña_moran = 'Deportivo96'\n",
    "contraseña_carlos = \"Whereisbotus1996\""
   ]
  },
  {
   "cell_type": "code",
   "execution_count": 9,
   "id": "fb5bf321-5268-4056-bbfc-feb797d70eaa",
   "metadata": {
    "tags": []
   },
   "outputs": [],
   "source": [
    "def insertar_datos_en_lotes(df, nombre_tabla, lote=100):\n",
    "    # Conexión a la base de datos MySQL\n",
    "    conn = mysql.connector.connect(\n",
    "        host=\"localhost\",\n",
    "        user=\"root\",\n",
    "        password=contraseña_moran,\n",
    "        database=\"coches_segunda_mano\"\n",
    "    )\n",
    "    cursor = conn.cursor()\n",
    "\n",
    "    columnas = df.columns.tolist()\n",
    "    query = f\"\"\"\n",
    "        INSERT INTO {nombre_tabla} ({', '.join(columnas)})\n",
    "        VALUES ({', '.join(['%s'] * len(columnas))})\n",
    "    \"\"\"\n",
    "\n",
    "    # Dividir el DataFrame en lotes\n",
    "    for i in range(0, len(df), lote):\n",
    "        valores = [tuple(row) for row in df.iloc[i:i + lote].to_numpy()]\n",
    "        cursor.executemany(query, valores)\n",
    "        conn.commit()\n",
    "\n",
    "    cursor.close()\n",
    "    conn.close()\n",
    "    print(f\"Datos insertados en {nombre_tabla} correctamente.\")"
   ]
  },
  {
   "cell_type": "code",
   "execution_count": 19,
   "id": "5a923c6a-885d-4a8f-8691-5497e673f536",
   "metadata": {
    "tags": []
   },
   "outputs": [
    {
     "name": "stdout",
     "output_type": "stream",
     "text": [
      "Datos insertados en combustibles correctamente.\n",
      "Datos insertados en concesionarios correctamente.\n",
      "Datos insertados en distintivos_ambientales correctamente.\n",
      "Datos insertados en marcas correctamente.\n",
      "Datos insertados en modelos correctamente.\n",
      "Datos insertados en provincias correctamente.\n",
      "Datos insertados en sobrealimentaciones correctamente.\n",
      "Datos insertados en tipo_traccion correctamente.\n",
      "Datos insertados en tipos_cambio correctamente.\n",
      "Datos insertados en links_coches correctamente.\n",
      "Datos insertados en prestaciones correctamente.\n"
     ]
    }
   ],
   "source": [
    "# Llamar a la funcion para insertar los datos en la tabla\n",
    "insertar_datos_en_lotes(df_combustibles, 'combustibles')\n",
    "insertar_datos_en_lotes(df_concesionarios, 'concesionarios')\n",
    "insertar_datos_en_lotes(df_distintivo_ambiental, 'distintivos_ambientales')\n",
    "insertar_datos_en_lotes(df_marcas, 'marcas')\n",
    "insertar_datos_en_lotes(df_modelos, 'modelos')\n",
    "insertar_datos_en_lotes(df_provincias, 'provincias')\n",
    "insertar_datos_en_lotes(df_sobrealimentacion, 'sobrealimentaciones')\n",
    "insertar_datos_en_lotes(df_traccion, 'tipo_traccion')\n",
    "insertar_datos_en_lotes(df_cambio, 'tipos_cambio')\n",
    "insertar_datos_en_lotes(df_concatenado, 'links_coches')\n",
    "insertar_datos_en_lotes(df_prestaciones, 'prestaciones')"
   ]
  },
  {
   "cell_type": "markdown",
   "id": "edeb91e3-ce8e-47a8-851a-c1f34eb37c88",
   "metadata": {
    "tags": []
   },
   "source": [
    "## Función para extraer datos"
   ]
  },
  {
   "cell_type": "code",
   "execution_count": 12,
   "id": "0aabe133-a705-4fc2-a122-a163202dfefb",
   "metadata": {
    "tags": []
   },
   "outputs": [],
   "source": [
    "# Funcion para extraer datos\n",
    "def extraer_datos(nombre_tabla, columna = '*'):\n",
    "    \n",
    "    try:\n",
    "        # Conexión a la base de datos de MySQL\n",
    "        conn = mysql.connector.connect(\n",
    "            host = \"localhost\",\n",
    "            user = \"root\",\n",
    "            password = contraseña_moran,\n",
    "            database = \"coches_segunda_mano\"\n",
    "        )\n",
    "        # Crear un cursor para ejecutar comandos SQL\n",
    "        cursor = conn.cursor()\n",
    "\n",
    "        # Crear la consulta SQL para seleccionar todos los datos de la tabla\n",
    "        query = f\"SELECT {columna} FROM {nombre_tabla}\"\n",
    "\n",
    "        # Ejecutar la consulta y recuperar los datos\n",
    "        cursor.execute(query)\n",
    "        resultado = cursor.fetchall()\n",
    "\n",
    "        # Obtener los nombres de las columnas de la tabla\n",
    "        columnas = [desc[0] for desc in cursor.description]\n",
    "\n",
    "        # Convertir los resultados a un DataFrame\n",
    "        df = pd.DataFrame(resultado, columns=columnas)\n",
    "\n",
    "        # Cerrar el cursor y la conexión\n",
    "        cursor.close()\n",
    "        conn.close()\n",
    "\n",
    "        # Devolver el DataFrame\n",
    "        print(f\"Datos de {nombre_tabla} extraidos correctamente\")\n",
    "        return df\n",
    "    \n",
    "    except mysql.connector.Error as e:\n",
    "        print(f\"Error al conectar con la base de datos: {e}\")\n",
    "        return pd.DataFrame() \n",
    "    \n",
    "    finally:\n",
    "        # Asegurarse de cerrar la conexión y el cursor\n",
    "        if 'cursor' in locals():\n",
    "            cursor.close()\n",
    "        if 'conn' in locals():\n",
    "            conn.close()"
   ]
  },
  {
   "cell_type": "code",
   "execution_count": 13,
   "id": "a0f94fc0-b916-4182-82ed-39c1ef701aec",
   "metadata": {},
   "outputs": [
    {
     "name": "stderr",
     "output_type": "stream",
     "text": [
      "C:\\Users\\User\\anaconda3\\Lib\\site-packages\\numpy\\core\\fromnumeric.py:59: FutureWarning: 'DataFrame.swapaxes' is deprecated and will be removed in a future version. Please use 'DataFrame.transpose' instead.\n",
      "  return bound(*args, **kwds)\n"
     ]
    },
    {
     "name": "stdout",
     "output_type": "stream",
     "text": [
      "Guardado: ../bin/datos_img_completos_1.csv\n",
      "Guardado: ../bin/datos_img_completos_2.csv\n",
      "Guardado: ../bin/datos_img_completos_3.csv\n",
      "Guardado: ../bin/datos_img_completos_4.csv\n",
      "Guardado: ../bin/datos_img_completos_5.csv\n",
      "Guardado: ../bin/datos_img_completos_6.csv\n",
      "Guardado: ../bin/datos_img_completos_7.csv\n",
      "Guardado: ../bin/datos_img_completos_8.csv\n",
      "Guardado: ../bin/datos_img_completos_9.csv\n",
      "Guardado: ../bin/datos_img_completos_10.csv\n",
      "Guardado: ../bin/datos_img_completos_11.csv\n",
      "Guardado: ../bin/datos_img_completos_12.csv\n",
      "Guardado: ../bin/datos_img_completos_13.csv\n",
      "Guardado: ../bin/datos_img_completos_14.csv\n",
      "Guardado: ../bin/datos_img_completos_15.csv\n"
     ]
    }
   ],
   "source": [
    "# Cargar el CSV original\n",
    "df = pd.read_csv(\"../bin/datos_img_completos.csv\")\n",
    "\n",
    "# Dividir el DataFrame en 10 partes\n",
    "partes = np.array_split(df, 15)\n",
    "\n",
    "# Guardar cada parte en un archivo CSV\n",
    "for i, parte in enumerate(partes):\n",
    "    nombre_archivo = f\"../bin/datos_img_completos_{i+1}.csv\"\n",
    "    parte.to_csv(nombre_archivo, index=False)\n",
    "    print(f\"Guardado: {nombre_archivo}\")"
   ]
  },
  {
   "cell_type": "code",
   "execution_count": null,
   "id": "cdd722f7-3836-4976-a7ad-9a0bc5936ede",
   "metadata": {},
   "outputs": [],
   "source": []
  }
 ],
 "metadata": {
  "kernelspec": {
   "display_name": "Python 3 (ipykernel)",
   "language": "python",
   "name": "python3"
  },
  "language_info": {
   "codemirror_mode": {
    "name": "ipython",
    "version": 3
   },
   "file_extension": ".py",
   "mimetype": "text/x-python",
   "name": "python",
   "nbconvert_exporter": "python",
   "pygments_lexer": "ipython3",
   "version": "3.11.7"
  }
 },
 "nbformat": 4,
 "nbformat_minor": 5
}
